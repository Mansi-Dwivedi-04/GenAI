{
 "cells": [
  {
   "cell_type": "code",
   "execution_count": 1,
   "id": "eeb11b87",
   "metadata": {
    "_cell_guid": "b1076dfc-b9ad-4769-8c92-a6c4dae69d19",
    "_uuid": "8f2839f25d086af736a60e9eeb907d3b93b6e0e5",
    "execution": {
     "iopub.execute_input": "2025-07-30T17:04:03.010323Z",
     "iopub.status.busy": "2025-07-30T17:04:03.009815Z",
     "iopub.status.idle": "2025-07-30T17:04:05.006525Z",
     "shell.execute_reply": "2025-07-30T17:04:05.004982Z"
    },
    "papermill": {
     "duration": 2.008575,
     "end_time": "2025-07-30T17:04:05.008432",
     "exception": false,
     "start_time": "2025-07-30T17:04:02.999857",
     "status": "completed"
    },
    "tags": []
   },
   "outputs": [
    {
     "name": "stdout",
     "output_type": "stream",
     "text": [
      "/kaggle/input/chinook/Chinook_Sqlite.sqlite\n"
     ]
    }
   ],
   "source": [
    "import numpy as np # linear algebra\n",
    "import pandas as pd # data processing, \n",
    "\n",
    "import os\n",
    "for dirname, _, filenames in os.walk('/kaggle/input'):\n",
    "    for filename in filenames:\n",
    "        print(os.path.join(dirname, filename))"
   ]
  },
  {
   "cell_type": "code",
   "execution_count": 2,
   "id": "c1e36099",
   "metadata": {
    "execution": {
     "iopub.execute_input": "2025-07-30T17:04:05.019748Z",
     "iopub.status.busy": "2025-07-30T17:04:05.019284Z",
     "iopub.status.idle": "2025-07-30T17:04:16.900182Z",
     "shell.execute_reply": "2025-07-30T17:04:16.898213Z"
    },
    "papermill": {
     "duration": 11.889437,
     "end_time": "2025-07-30T17:04:16.902403",
     "exception": false,
     "start_time": "2025-07-30T17:04:05.012966",
     "status": "completed"
    },
    "tags": []
   },
   "outputs": [
    {
     "name": "stdout",
     "output_type": "stream",
     "text": [
      "Requirement already satisfied: langchain in /usr/local/lib/python3.11/dist-packages (0.3.26)\r\n",
      "Collecting langchain_community\r\n",
      "  Downloading langchain_community-0.3.27-py3-none-any.whl.metadata (2.9 kB)\r\n",
      "Collecting langgraph\r\n",
      "  Downloading langgraph-0.6.1-py3-none-any.whl.metadata (6.8 kB)\r\n",
      "Collecting langchain_groq\r\n",
      "  Downloading langchain_groq-0.3.6-py3-none-any.whl.metadata (2.6 kB)\r\n",
      "Requirement already satisfied: langchain-core<1.0.0,>=0.3.66 in /usr/local/lib/python3.11/dist-packages (from langchain) (0.3.66)\r\n",
      "Requirement already satisfied: langchain-text-splitters<1.0.0,>=0.3.8 in /usr/local/lib/python3.11/dist-packages (from langchain) (0.3.8)\r\n",
      "Requirement already satisfied: langsmith>=0.1.17 in /usr/local/lib/python3.11/dist-packages (from langchain) (0.4.1)\r\n",
      "Requirement already satisfied: pydantic<3.0.0,>=2.7.4 in /usr/local/lib/python3.11/dist-packages (from langchain) (2.11.7)\r\n",
      "Requirement already satisfied: SQLAlchemy<3,>=1.4 in /usr/local/lib/python3.11/dist-packages (from langchain) (2.0.41)\r\n",
      "Requirement already satisfied: requests<3,>=2 in /usr/local/lib/python3.11/dist-packages (from langchain) (2.32.4)\r\n",
      "Requirement already satisfied: PyYAML>=5.3 in /usr/local/lib/python3.11/dist-packages (from langchain) (6.0.2)\r\n",
      "Requirement already satisfied: aiohttp<4.0.0,>=3.8.3 in /usr/local/lib/python3.11/dist-packages (from langchain_community) (3.12.13)\r\n",
      "Requirement already satisfied: tenacity!=8.4.0,<10,>=8.1.0 in /usr/local/lib/python3.11/dist-packages (from langchain_community) (8.5.0)\r\n",
      "Requirement already satisfied: dataclasses-json<0.7,>=0.5.7 in /usr/local/lib/python3.11/dist-packages (from langchain_community) (0.6.7)\r\n",
      "Collecting pydantic-settings<3.0.0,>=2.4.0 (from langchain_community)\r\n",
      "  Downloading pydantic_settings-2.10.1-py3-none-any.whl.metadata (3.4 kB)\r\n",
      "Collecting httpx-sse<1.0.0,>=0.4.0 (from langchain_community)\r\n",
      "  Downloading httpx_sse-0.4.1-py3-none-any.whl.metadata (9.4 kB)\r\n",
      "Requirement already satisfied: numpy>=1.26.2 in /usr/local/lib/python3.11/dist-packages (from langchain_community) (1.26.4)\r\n",
      "Collecting langgraph-checkpoint<3.0.0,>=2.1.0 (from langgraph)\r\n",
      "  Downloading langgraph_checkpoint-2.1.1-py3-none-any.whl.metadata (4.2 kB)\r\n",
      "Collecting langgraph-prebuilt<0.7.0,>=0.6.0 (from langgraph)\r\n",
      "  Downloading langgraph_prebuilt-0.6.1-py3-none-any.whl.metadata (4.5 kB)\r\n",
      "Collecting langgraph-sdk<0.3.0,>=0.2.0 (from langgraph)\r\n",
      "  Downloading langgraph_sdk-0.2.0-py3-none-any.whl.metadata (1.5 kB)\r\n",
      "Requirement already satisfied: xxhash>=3.5.0 in /usr/local/lib/python3.11/dist-packages (from langgraph) (3.5.0)\r\n",
      "Collecting langchain-core<1.0.0,>=0.3.66 (from langchain)\r\n",
      "  Downloading langchain_core-0.3.72-py3-none-any.whl.metadata (5.8 kB)\r\n",
      "Collecting groq<1,>=0.29.0 (from langchain_groq)\r\n",
      "  Downloading groq-0.30.0-py3-none-any.whl.metadata (16 kB)\r\n",
      "Requirement already satisfied: aiohappyeyeballs>=2.5.0 in /usr/local/lib/python3.11/dist-packages (from aiohttp<4.0.0,>=3.8.3->langchain_community) (2.6.1)\r\n",
      "Requirement already satisfied: aiosignal>=1.1.2 in /usr/local/lib/python3.11/dist-packages (from aiohttp<4.0.0,>=3.8.3->langchain_community) (1.3.2)\r\n",
      "Requirement already satisfied: attrs>=17.3.0 in /usr/local/lib/python3.11/dist-packages (from aiohttp<4.0.0,>=3.8.3->langchain_community) (25.3.0)\r\n",
      "Requirement already satisfied: frozenlist>=1.1.1 in /usr/local/lib/python3.11/dist-packages (from aiohttp<4.0.0,>=3.8.3->langchain_community) (1.7.0)\r\n",
      "Requirement already satisfied: multidict<7.0,>=4.5 in /usr/local/lib/python3.11/dist-packages (from aiohttp<4.0.0,>=3.8.3->langchain_community) (6.6.3)\r\n",
      "Requirement already satisfied: propcache>=0.2.0 in /usr/local/lib/python3.11/dist-packages (from aiohttp<4.0.0,>=3.8.3->langchain_community) (0.3.2)\r\n",
      "Requirement already satisfied: yarl<2.0,>=1.17.0 in /usr/local/lib/python3.11/dist-packages (from aiohttp<4.0.0,>=3.8.3->langchain_community) (1.20.1)\r\n",
      "Requirement already satisfied: marshmallow<4.0.0,>=3.18.0 in /usr/local/lib/python3.11/dist-packages (from dataclasses-json<0.7,>=0.5.7->langchain_community) (3.26.1)\r\n",
      "Requirement already satisfied: typing-inspect<1,>=0.4.0 in /usr/local/lib/python3.11/dist-packages (from dataclasses-json<0.7,>=0.5.7->langchain_community) (0.9.0)\r\n",
      "Requirement already satisfied: anyio<5,>=3.5.0 in /usr/local/lib/python3.11/dist-packages (from groq<1,>=0.29.0->langchain_groq) (4.9.0)\r\n",
      "Requirement already satisfied: distro<2,>=1.7.0 in /usr/local/lib/python3.11/dist-packages (from groq<1,>=0.29.0->langchain_groq) (1.9.0)\r\n",
      "Requirement already satisfied: httpx<1,>=0.23.0 in /usr/local/lib/python3.11/dist-packages (from groq<1,>=0.29.0->langchain_groq) (0.28.1)\r\n",
      "Requirement already satisfied: sniffio in /usr/local/lib/python3.11/dist-packages (from groq<1,>=0.29.0->langchain_groq) (1.3.1)\r\n",
      "Requirement already satisfied: typing-extensions<5,>=4.10 in /usr/local/lib/python3.11/dist-packages (from groq<1,>=0.29.0->langchain_groq) (4.14.0)\r\n",
      "Requirement already satisfied: jsonpatch<2.0,>=1.33 in /usr/local/lib/python3.11/dist-packages (from langchain-core<1.0.0,>=0.3.66->langchain) (1.33)\r\n",
      "Requirement already satisfied: packaging>=23.2 in /usr/local/lib/python3.11/dist-packages (from langchain-core<1.0.0,>=0.3.66->langchain) (25.0)\r\n",
      "Collecting ormsgpack>=1.10.0 (from langgraph-checkpoint<3.0.0,>=2.1.0->langgraph)\r\n",
      "  Downloading ormsgpack-1.10.0-cp311-cp311-manylinux_2_17_x86_64.manylinux2014_x86_64.whl.metadata (43 kB)\r\n",
      "\u001b[2K     \u001b[90m━━━━━━━━━━━━━━━━━━━━━━━━━━━━━━━━━━━━━━━━\u001b[0m \u001b[32m43.7/43.7 kB\u001b[0m \u001b[31m1.9 MB/s\u001b[0m eta \u001b[36m0:00:00\u001b[0m\r\n",
      "\u001b[?25hRequirement already satisfied: orjson>=3.10.1 in /usr/local/lib/python3.11/dist-packages (from langgraph-sdk<0.3.0,>=0.2.0->langgraph) (3.10.18)\r\n",
      "Requirement already satisfied: requests-toolbelt<2.0.0,>=1.0.0 in /usr/local/lib/python3.11/dist-packages (from langsmith>=0.1.17->langchain) (1.0.0)\r\n",
      "Requirement already satisfied: zstandard<0.24.0,>=0.23.0 in /usr/local/lib/python3.11/dist-packages (from langsmith>=0.1.17->langchain) (0.23.0)\r\n",
      "Requirement already satisfied: mkl_fft in /usr/local/lib/python3.11/dist-packages (from numpy>=1.26.2->langchain_community) (1.3.8)\r\n",
      "Requirement already satisfied: mkl_random in /usr/local/lib/python3.11/dist-packages (from numpy>=1.26.2->langchain_community) (1.2.4)\r\n",
      "Requirement already satisfied: mkl_umath in /usr/local/lib/python3.11/dist-packages (from numpy>=1.26.2->langchain_community) (0.1.1)\r\n",
      "Requirement already satisfied: mkl in /usr/local/lib/python3.11/dist-packages (from numpy>=1.26.2->langchain_community) (2025.2.0)\r\n",
      "Requirement already satisfied: tbb4py in /usr/local/lib/python3.11/dist-packages (from numpy>=1.26.2->langchain_community) (2022.2.0)\r\n",
      "Requirement already satisfied: mkl-service in /usr/local/lib/python3.11/dist-packages (from numpy>=1.26.2->langchain_community) (2.4.1)\r\n",
      "Requirement already satisfied: annotated-types>=0.6.0 in /usr/local/lib/python3.11/dist-packages (from pydantic<3.0.0,>=2.7.4->langchain) (0.7.0)\r\n",
      "Requirement already satisfied: pydantic-core==2.33.2 in /usr/local/lib/python3.11/dist-packages (from pydantic<3.0.0,>=2.7.4->langchain) (2.33.2)\r\n",
      "Requirement already satisfied: typing-inspection>=0.4.0 in /usr/local/lib/python3.11/dist-packages (from pydantic<3.0.0,>=2.7.4->langchain) (0.4.1)\r\n",
      "Collecting python-dotenv>=0.21.0 (from pydantic-settings<3.0.0,>=2.4.0->langchain_community)\r\n",
      "  Downloading python_dotenv-1.1.1-py3-none-any.whl.metadata (24 kB)\r\n",
      "Requirement already satisfied: charset_normalizer<4,>=2 in /usr/local/lib/python3.11/dist-packages (from requests<3,>=2->langchain) (3.4.2)\r\n",
      "Requirement already satisfied: idna<4,>=2.5 in /usr/local/lib/python3.11/dist-packages (from requests<3,>=2->langchain) (3.10)\r\n",
      "Requirement already satisfied: urllib3<3,>=1.21.1 in /usr/local/lib/python3.11/dist-packages (from requests<3,>=2->langchain) (2.5.0)\r\n",
      "Requirement already satisfied: certifi>=2017.4.17 in /usr/local/lib/python3.11/dist-packages (from requests<3,>=2->langchain) (2025.6.15)\r\n",
      "Requirement already satisfied: greenlet>=1 in /usr/local/lib/python3.11/dist-packages (from SQLAlchemy<3,>=1.4->langchain) (3.2.3)\r\n",
      "Requirement already satisfied: httpcore==1.* in /usr/local/lib/python3.11/dist-packages (from httpx<1,>=0.23.0->groq<1,>=0.29.0->langchain_groq) (1.0.9)\r\n",
      "Requirement already satisfied: h11>=0.16 in /usr/local/lib/python3.11/dist-packages (from httpcore==1.*->httpx<1,>=0.23.0->groq<1,>=0.29.0->langchain_groq) (0.16.0)\r\n",
      "Requirement already satisfied: jsonpointer>=1.9 in /usr/local/lib/python3.11/dist-packages (from jsonpatch<2.0,>=1.33->langchain-core<1.0.0,>=0.3.66->langchain) (3.0.0)\r\n",
      "Requirement already satisfied: mypy-extensions>=0.3.0 in /usr/local/lib/python3.11/dist-packages (from typing-inspect<1,>=0.4.0->dataclasses-json<0.7,>=0.5.7->langchain_community) (1.1.0)\r\n",
      "Requirement already satisfied: intel-openmp<2026,>=2024 in /usr/local/lib/python3.11/dist-packages (from mkl->numpy>=1.26.2->langchain_community) (2024.2.0)\r\n",
      "Requirement already satisfied: tbb==2022.* in /usr/local/lib/python3.11/dist-packages (from mkl->numpy>=1.26.2->langchain_community) (2022.2.0)\r\n",
      "Requirement already satisfied: tcmlib==1.* in /usr/local/lib/python3.11/dist-packages (from tbb==2022.*->mkl->numpy>=1.26.2->langchain_community) (1.4.0)\r\n",
      "Requirement already satisfied: intel-cmplr-lib-rt in /usr/local/lib/python3.11/dist-packages (from mkl_umath->numpy>=1.26.2->langchain_community) (2024.2.0)\r\n",
      "Requirement already satisfied: intel-cmplr-lib-ur==2024.2.0 in /usr/local/lib/python3.11/dist-packages (from intel-openmp<2026,>=2024->mkl->numpy>=1.26.2->langchain_community) (2024.2.0)\r\n",
      "Downloading langchain_community-0.3.27-py3-none-any.whl (2.5 MB)\r\n",
      "\u001b[2K   \u001b[90m━━━━━━━━━━━━━━━━━━━━━━━━━━━━━━━━━━━━━━━━\u001b[0m \u001b[32m2.5/2.5 MB\u001b[0m \u001b[31m13.8 MB/s\u001b[0m eta \u001b[36m0:00:00\u001b[0m\r\n",
      "\u001b[?25hDownloading langgraph-0.6.1-py3-none-any.whl (151 kB)\r\n",
      "\u001b[2K   \u001b[90m━━━━━━━━━━━━━━━━━━━━━━━━━━━━━━━━━━━━━━━━\u001b[0m \u001b[32m151.9/151.9 kB\u001b[0m \u001b[31m8.8 MB/s\u001b[0m eta \u001b[36m0:00:00\u001b[0m\r\n",
      "\u001b[?25hDownloading langchain_groq-0.3.6-py3-none-any.whl (16 kB)\r\n",
      "Downloading groq-0.30.0-py3-none-any.whl (131 kB)\r\n",
      "\u001b[2K   \u001b[90m━━━━━━━━━━━━━━━━━━━━━━━━━━━━━━━━━━━━━━━━\u001b[0m \u001b[32m131.1/131.1 kB\u001b[0m \u001b[31m6.3 MB/s\u001b[0m eta \u001b[36m0:00:00\u001b[0m\r\n",
      "\u001b[?25hDownloading httpx_sse-0.4.1-py3-none-any.whl (8.1 kB)\r\n",
      "Downloading langchain_core-0.3.72-py3-none-any.whl (442 kB)\r\n",
      "\u001b[2K   \u001b[90m━━━━━━━━━━━━━━━━━━━━━━━━━━━━━━━━━━━━━━━━\u001b[0m \u001b[32m442.8/442.8 kB\u001b[0m \u001b[31m21.2 MB/s\u001b[0m eta \u001b[36m0:00:00\u001b[0m\r\n",
      "\u001b[?25hDownloading langgraph_checkpoint-2.1.1-py3-none-any.whl (43 kB)\r\n",
      "\u001b[2K   \u001b[90m━━━━━━━━━━━━━━━━━━━━━━━━━━━━━━━━━━━━━━━━\u001b[0m \u001b[32m43.9/43.9 kB\u001b[0m \u001b[31m2.0 MB/s\u001b[0m eta \u001b[36m0:00:00\u001b[0m\r\n",
      "\u001b[?25hDownloading langgraph_prebuilt-0.6.1-py3-none-any.whl (28 kB)\r\n",
      "Downloading langgraph_sdk-0.2.0-py3-none-any.whl (50 kB)\r\n",
      "\u001b[2K   \u001b[90m━━━━━━━━━━━━━━━━━━━━━━━━━━━━━━━━━━━━━━━━\u001b[0m \u001b[32m50.6/50.6 kB\u001b[0m \u001b[31m2.5 MB/s\u001b[0m eta \u001b[36m0:00:00\u001b[0m\r\n",
      "\u001b[?25hDownloading pydantic_settings-2.10.1-py3-none-any.whl (45 kB)\r\n",
      "\u001b[2K   \u001b[90m━━━━━━━━━━━━━━━━━━━━━━━━━━━━━━━━━━━━━━━━\u001b[0m \u001b[32m45.2/45.2 kB\u001b[0m \u001b[31m1.9 MB/s\u001b[0m eta \u001b[36m0:00:00\u001b[0m\r\n",
      "\u001b[?25hDownloading ormsgpack-1.10.0-cp311-cp311-manylinux_2_17_x86_64.manylinux2014_x86_64.whl (216 kB)\r\n",
      "\u001b[2K   \u001b[90m━━━━━━━━━━━━━━━━━━━━━━━━━━━━━━━━━━━━━━━━\u001b[0m \u001b[32m216.5/216.5 kB\u001b[0m \u001b[31m10.8 MB/s\u001b[0m eta \u001b[36m0:00:00\u001b[0m\r\n",
      "\u001b[?25hDownloading python_dotenv-1.1.1-py3-none-any.whl (20 kB)\r\n",
      "Installing collected packages: python-dotenv, ormsgpack, httpx-sse, pydantic-settings, langgraph-sdk, groq, langchain-core, langgraph-checkpoint, langchain_groq, langgraph-prebuilt, langgraph, langchain_community\r\n",
      "  Attempting uninstall: langchain-core\r\n",
      "    Found existing installation: langchain-core 0.3.66\r\n",
      "    Uninstalling langchain-core-0.3.66:\r\n",
      "      Successfully uninstalled langchain-core-0.3.66\r\n",
      "Successfully installed groq-0.30.0 httpx-sse-0.4.1 langchain-core-0.3.72 langchain_community-0.3.27 langchain_groq-0.3.6 langgraph-0.6.1 langgraph-checkpoint-2.1.1 langgraph-prebuilt-0.6.1 langgraph-sdk-0.2.0 ormsgpack-1.10.0 pydantic-settings-2.10.1 python-dotenv-1.1.1\r\n"
     ]
    }
   ],
   "source": [
    "!pip install langchain langchain_community langgraph langchain_groq"
   ]
  },
  {
   "cell_type": "code",
   "execution_count": 3,
   "id": "afcd8c9e",
   "metadata": {
    "execution": {
     "iopub.execute_input": "2025-07-30T17:04:16.917819Z",
     "iopub.status.busy": "2025-07-30T17:04:16.917458Z",
     "iopub.status.idle": "2025-07-30T17:04:17.260160Z",
     "shell.execute_reply": "2025-07-30T17:04:17.259051Z"
    },
    "papermill": {
     "duration": 0.352401,
     "end_time": "2025-07-30T17:04:17.261788",
     "exception": false,
     "start_time": "2025-07-30T17:04:16.909387",
     "status": "completed"
    },
    "tags": []
   },
   "outputs": [],
   "source": [
    "from kaggle_secrets import UserSecretsClient\n",
    "user_secrets = UserSecretsClient()\n",
    "secret_value_groq = user_secrets.get_secret(\"groq_key\")\n",
    "secret_value_LangSmith = user_secrets.get_secret(\"LangSmith_tutorial_key\")\n"
   ]
  },
  {
   "cell_type": "code",
   "execution_count": 4,
   "id": "236b70e3",
   "metadata": {
    "execution": {
     "iopub.execute_input": "2025-07-30T17:04:17.276364Z",
     "iopub.status.busy": "2025-07-30T17:04:17.275987Z",
     "iopub.status.idle": "2025-07-30T17:04:17.281701Z",
     "shell.execute_reply": "2025-07-30T17:04:17.280218Z"
    },
    "papermill": {
     "duration": 0.014884,
     "end_time": "2025-07-30T17:04:17.283778",
     "exception": false,
     "start_time": "2025-07-30T17:04:17.268894",
     "status": "completed"
    },
    "tags": []
   },
   "outputs": [],
   "source": [
    "import os\n",
    "if not os.environ.get(\"GROQ_API_KEY\"):\n",
    "    os.environ[\"GROQ_API_KEY\"] = secret_value_groq\n",
    "if not os.environ.get(\"LANGSMITH_API_KEY\"):\n",
    "    os.environ[\"LANGSMITH_API_KEY\"] = secret_value_LangSmith\n",
    "    os.environ[\"LANGSMITH_TRACING\"] = \"true\""
   ]
  },
  {
   "cell_type": "code",
   "execution_count": 5,
   "id": "f10c1693",
   "metadata": {
    "execution": {
     "iopub.execute_input": "2025-07-30T17:04:17.298086Z",
     "iopub.status.busy": "2025-07-30T17:04:17.297430Z",
     "iopub.status.idle": "2025-07-30T17:04:19.601292Z",
     "shell.execute_reply": "2025-07-30T17:04:19.600330Z"
    },
    "papermill": {
     "duration": 2.313164,
     "end_time": "2025-07-30T17:04:19.603044",
     "exception": false,
     "start_time": "2025-07-30T17:04:17.289880",
     "status": "completed"
    },
    "tags": []
   },
   "outputs": [],
   "source": [
    "\n",
    "from langchain.chat_models import init_chat_model\n",
    "llm = init_chat_model(\"llama3-8b-8192\", model_provider=\"groq\")"
   ]
  },
  {
   "cell_type": "code",
   "execution_count": 6,
   "id": "9d3b8a79",
   "metadata": {
    "execution": {
     "iopub.execute_input": "2025-07-30T17:04:19.618609Z",
     "iopub.status.busy": "2025-07-30T17:04:19.618106Z",
     "iopub.status.idle": "2025-07-30T17:04:20.678382Z",
     "shell.execute_reply": "2025-07-30T17:04:20.676585Z"
    },
    "papermill": {
     "duration": 1.071046,
     "end_time": "2025-07-30T17:04:20.680211",
     "exception": false,
     "start_time": "2025-07-30T17:04:19.609165",
     "status": "completed"
    },
    "tags": []
   },
   "outputs": [
    {
     "name": "stdout",
     "output_type": "stream",
     "text": [
      "sqlite\n",
      "['Album', 'Artist', 'Customer', 'Employee', 'Genre', 'Invoice', 'InvoiceLine', 'MediaType', 'Playlist', 'PlaylistTrack', 'Track']\n"
     ]
    },
    {
     "data": {
      "text/plain": [
       "\"[(1, 'AC/DC'), (2, 'Accept'), (3, 'Aerosmith'), (4, 'Alanis Morissette'), (5, 'Alice In Chains'), (6, 'Antônio Carlos Jobim'), (7, 'Apocalyptica'), (8, 'Audioslave'), (9, 'BackBeat'), (10, 'Billy Cobham')]\""
      ]
     },
     "execution_count": 6,
     "metadata": {},
     "output_type": "execute_result"
    }
   ],
   "source": [
    "from langchain_community.utilities import SQLDatabase\n",
    "db = SQLDatabase.from_uri(\"sqlite:////kaggle/input/chinook/Chinook_Sqlite.sqlite\")\n",
    "print(db.dialect)\n",
    "print(db.get_usable_table_names())\n",
    "db.run(\"Select * from Artist LIMIT 10;\")"
   ]
  },
  {
   "cell_type": "code",
   "execution_count": 7,
   "id": "60bb7019",
   "metadata": {
    "execution": {
     "iopub.execute_input": "2025-07-30T17:04:20.694325Z",
     "iopub.status.busy": "2025-07-30T17:04:20.693961Z",
     "iopub.status.idle": "2025-07-30T17:04:20.700196Z",
     "shell.execute_reply": "2025-07-30T17:04:20.698931Z"
    },
    "papermill": {
     "duration": 0.015678,
     "end_time": "2025-07-30T17:04:20.702335",
     "exception": false,
     "start_time": "2025-07-30T17:04:20.686657",
     "status": "completed"
    },
    "tags": []
   },
   "outputs": [],
   "source": [
    "from typing_extensions import TypedDict\n",
    "\n",
    "class State(TypedDict):\n",
    "    question: str\n",
    "    query: str\n",
    "    query_result: str\n",
    "    answer: str\n",
    "    "
   ]
  },
  {
   "cell_type": "code",
   "execution_count": 8,
   "id": "f8107b3e",
   "metadata": {
    "execution": {
     "iopub.execute_input": "2025-07-30T17:04:20.717310Z",
     "iopub.status.busy": "2025-07-30T17:04:20.716999Z",
     "iopub.status.idle": "2025-07-30T17:04:20.725224Z",
     "shell.execute_reply": "2025-07-30T17:04:20.724109Z"
    },
    "papermill": {
     "duration": 0.017331,
     "end_time": "2025-07-30T17:04:20.727020",
     "exception": false,
     "start_time": "2025-07-30T17:04:20.709689",
     "status": "completed"
    },
    "tags": []
   },
   "outputs": [
    {
     "name": "stderr",
     "output_type": "stream",
     "text": [
      "/tmp/ipykernel_13/4073026401.py:1: LangChainDeprecationWarning: The method `SQLDatabase.get_table_names` was deprecated in langchain-community 0.0.1 and will be removed in 1.0. Use :meth:`~get_usable_table_names` instead.\n",
      "  db.get_table_names()\n"
     ]
    },
    {
     "data": {
      "text/plain": [
       "['Album',\n",
       " 'Artist',\n",
       " 'Customer',\n",
       " 'Employee',\n",
       " 'Genre',\n",
       " 'Invoice',\n",
       " 'InvoiceLine',\n",
       " 'MediaType',\n",
       " 'Playlist',\n",
       " 'PlaylistTrack',\n",
       " 'Track']"
      ]
     },
     "execution_count": 8,
     "metadata": {},
     "output_type": "execute_result"
    }
   ],
   "source": [
    "db.get_table_names()"
   ]
  },
  {
   "cell_type": "code",
   "execution_count": 9,
   "id": "062e1ec8",
   "metadata": {
    "execution": {
     "iopub.execute_input": "2025-07-30T17:04:20.741168Z",
     "iopub.status.busy": "2025-07-30T17:04:20.740834Z",
     "iopub.status.idle": "2025-07-30T17:04:20.802443Z",
     "shell.execute_reply": "2025-07-30T17:04:20.801433Z"
    },
    "papermill": {
     "duration": 0.070586,
     "end_time": "2025-07-30T17:04:20.804067",
     "exception": false,
     "start_time": "2025-07-30T17:04:20.733481",
     "status": "completed"
    },
    "tags": []
   },
   "outputs": [
    {
     "name": "stdout",
     "output_type": "stream",
     "text": [
      "================================\u001b[1m System Message \u001b[0m================================\n",
      "\n",
      "\n",
      "Given an input question, create a syntactically correct \u001b[33;1m\u001b[1;3m{dialect}\u001b[0m query to\n",
      "run to help find the answer. Unless the user specifies in his question a\n",
      "specific number of examples they wish to obtain, always limit your query to\n",
      "at most \u001b[33;1m\u001b[1;3m{top_k}\u001b[0m results. You can order the results by a relevant column to\n",
      "return the most interesting examples in the database.\n",
      "\n",
      "Never query for all the columns from a specific table, only ask for a the\n",
      "few relevant columns given the question.\n",
      "\n",
      "Pay attention to use only the column names that you can see in the schema\n",
      "description. Be careful to not query for columns that do not exist. Also,\n",
      "pay attention to which column is in which table.\n",
      "\n",
      "Only use the following tables:\n",
      "\u001b[33;1m\u001b[1;3m{table_info}\u001b[0m\n",
      "\n",
      "================================\u001b[1m Human Message \u001b[0m=================================\n",
      "\n",
      "Question: \u001b[33;1m\u001b[1;3m{input}\u001b[0m\n"
     ]
    }
   ],
   "source": [
    "from langchain_core.prompts import ChatPromptTemplate\n",
    "system_message = \"\"\"\n",
    "Given an input question, create a syntactically correct {dialect} query to\n",
    "run to help find the answer. Unless the user specifies in his question a\n",
    "specific number of examples they wish to obtain, always limit your query to\n",
    "at most {top_k} results. You can order the results by a relevant column to\n",
    "return the most interesting examples in the database.\n",
    "\n",
    "Never query for all the columns from a specific table, only ask for a the\n",
    "few relevant columns given the question.\n",
    "\n",
    "Pay attention to use only the column names that you can see in the schema\n",
    "description. Be careful to not query for columns that do not exist. Also,\n",
    "pay attention to which column is in which table.\n",
    "\n",
    "Only use the following tables:\n",
    "{table_info}\n",
    "\"\"\"\n",
    "user_prompt = \"Question: {input}\"\n",
    "query_prompt_template = ChatPromptTemplate(\n",
    "    [(\"system\",system_message),(\"user\",user_prompt)]\n",
    ")\n",
    "for message in query_prompt_template.messages:\n",
    "    message.pretty_print()"
   ]
  },
  {
   "cell_type": "code",
   "execution_count": 10,
   "id": "6fc983dd",
   "metadata": {
    "execution": {
     "iopub.execute_input": "2025-07-30T17:04:20.818516Z",
     "iopub.status.busy": "2025-07-30T17:04:20.817794Z",
     "iopub.status.idle": "2025-07-30T17:04:20.824620Z",
     "shell.execute_reply": "2025-07-30T17:04:20.823747Z"
    },
    "papermill": {
     "duration": 0.01557,
     "end_time": "2025-07-30T17:04:20.826083",
     "exception": false,
     "start_time": "2025-07-30T17:04:20.810513",
     "status": "completed"
    },
    "tags": []
   },
   "outputs": [],
   "source": [
    "from typing_extensions import Annotated\n",
    "class QueryOutput(TypedDict):\n",
    "    \"\"\"Generate SQL query\"\"\"\n",
    "    query: Annotated[str,...,\"Syntactically valid SQL query\"]\n",
    "\n",
    "def write_query(state: State):\n",
    "    \"\"\"Generate SQL query to fetch information\"\"\"\n",
    "    prompt = query_prompt_template.invoke(\n",
    "        {\n",
    "            \"dialect\": db.dialect,\n",
    "            \"top_k\":8,\n",
    "            \"table_info\": db.get_table_info(),\n",
    "            \"input\": state['question'],\n",
    "        }\n",
    "    )\n",
    "    structured_llm = llm.with_structured_output(QueryOutput)\n",
    "    result = structured_llm.invoke(prompt)\n",
    "    return {\"query\":result[\"query\"]}"
   ]
  },
  {
   "cell_type": "code",
   "execution_count": 11,
   "id": "53e42b79",
   "metadata": {
    "execution": {
     "iopub.execute_input": "2025-07-30T17:04:20.839848Z",
     "iopub.status.busy": "2025-07-30T17:04:20.839554Z",
     "iopub.status.idle": "2025-07-30T17:04:21.631678Z",
     "shell.execute_reply": "2025-07-30T17:04:21.630739Z"
    },
    "papermill": {
     "duration": 0.801053,
     "end_time": "2025-07-30T17:04:21.633516",
     "exception": false,
     "start_time": "2025-07-30T17:04:20.832463",
     "status": "completed"
    },
    "tags": []
   },
   "outputs": [
    {
     "data": {
      "text/plain": [
       "{'query': 'SELECT COUNT(*) FROM Employee;'}"
      ]
     },
     "execution_count": 11,
     "metadata": {},
     "output_type": "execute_result"
    }
   ],
   "source": [
    "write_query({\"question\":\"How many employees are there?\"})"
   ]
  },
  {
   "cell_type": "markdown",
   "id": "bb1e0bff",
   "metadata": {
    "papermill": {
     "duration": 0.006161,
     "end_time": "2025-07-30T17:04:21.648603",
     "exception": false,
     "start_time": "2025-07-30T17:04:21.642442",
     "status": "completed"
    },
    "tags": []
   },
   "source": [
    "# Execute query"
   ]
  },
  {
   "cell_type": "code",
   "execution_count": 12,
   "id": "0773496f",
   "metadata": {
    "execution": {
     "iopub.execute_input": "2025-07-30T17:04:21.663944Z",
     "iopub.status.busy": "2025-07-30T17:04:21.663635Z",
     "iopub.status.idle": "2025-07-30T17:04:21.691614Z",
     "shell.execute_reply": "2025-07-30T17:04:21.690293Z"
    },
    "papermill": {
     "duration": 0.038662,
     "end_time": "2025-07-30T17:04:21.693444",
     "exception": false,
     "start_time": "2025-07-30T17:04:21.654782",
     "status": "completed"
    },
    "tags": []
   },
   "outputs": [],
   "source": [
    "from langchain_community.tools.sql_database.tool import QuerySQLDatabaseTool\n",
    "\n",
    "def execute_query(state: State):\n",
    "    \"\"\"Execute SQL query.\"\"\"\n",
    "    execute_query_tool = QuerySQLDatabaseTool(db=db)\n",
    "    return {\"query_result\":execute_query_tool.invoke(state[\"query\"])}"
   ]
  },
  {
   "cell_type": "code",
   "execution_count": 13,
   "id": "0dce4ad7",
   "metadata": {
    "execution": {
     "iopub.execute_input": "2025-07-30T17:04:21.709455Z",
     "iopub.status.busy": "2025-07-30T17:04:21.709105Z",
     "iopub.status.idle": "2025-07-30T17:04:21.721597Z",
     "shell.execute_reply": "2025-07-30T17:04:21.720688Z"
    },
    "papermill": {
     "duration": 0.022528,
     "end_time": "2025-07-30T17:04:21.723437",
     "exception": false,
     "start_time": "2025-07-30T17:04:21.700909",
     "status": "completed"
    },
    "tags": []
   },
   "outputs": [
    {
     "data": {
      "text/plain": [
       "{'query_result': '[(8,)]'}"
      ]
     },
     "execution_count": 13,
     "metadata": {},
     "output_type": "execute_result"
    }
   ],
   "source": [
    "execute_query({\"query\":'SELECT COUNT(*) FROM Employee'})"
   ]
  },
  {
   "cell_type": "markdown",
   "id": "62c12e0c",
   "metadata": {
    "papermill": {
     "duration": 0.006492,
     "end_time": "2025-07-30T17:04:21.737690",
     "exception": false,
     "start_time": "2025-07-30T17:04:21.731198",
     "status": "completed"
    },
    "tags": []
   },
   "source": [
    "## Generate answer"
   ]
  },
  {
   "cell_type": "code",
   "execution_count": 14,
   "id": "b5bb7071",
   "metadata": {
    "execution": {
     "iopub.execute_input": "2025-07-30T17:04:21.751806Z",
     "iopub.status.busy": "2025-07-30T17:04:21.751489Z",
     "iopub.status.idle": "2025-07-30T17:04:21.756454Z",
     "shell.execute_reply": "2025-07-30T17:04:21.755580Z"
    },
    "papermill": {
     "duration": 0.014015,
     "end_time": "2025-07-30T17:04:21.758137",
     "exception": false,
     "start_time": "2025-07-30T17:04:21.744122",
     "status": "completed"
    },
    "tags": []
   },
   "outputs": [],
   "source": [
    "def generate_answer(state:State):\n",
    "    \"\"\"Generates result based on the query and query_output\"\"\"\n",
    "    prompt = (\n",
    "        \"Given the following user question, corresponding to a SQL query, \"\n",
    "        \"and SQL query result, answer the user question based on SQL query and SQL query result.\\n\\n\"\n",
    "        f\"Question:{state['question']}\\n\\n\"\n",
    "        f\"Query:{state['query']}\\n\"\n",
    "        f\"SQL query result:{state['query_result']}\"\n",
    "    )\n",
    "    answer=llm.invoke(prompt)\n",
    "    return {\"answer\":answer.content}"
   ]
  },
  {
   "cell_type": "markdown",
   "id": "9008a85c",
   "metadata": {
    "papermill": {
     "duration": 0.006192,
     "end_time": "2025-07-30T17:04:21.770925",
     "exception": false,
     "start_time": "2025-07-30T17:04:21.764733",
     "status": "completed"
    },
    "tags": []
   },
   "source": [
    "# Orchestrating with langgraph"
   ]
  },
  {
   "cell_type": "code",
   "execution_count": 15,
   "id": "5cc7f6a1",
   "metadata": {
    "execution": {
     "iopub.execute_input": "2025-07-30T17:04:21.788414Z",
     "iopub.status.busy": "2025-07-30T17:04:21.788062Z",
     "iopub.status.idle": "2025-07-30T17:04:21.852309Z",
     "shell.execute_reply": "2025-07-30T17:04:21.851326Z"
    },
    "papermill": {
     "duration": 0.076645,
     "end_time": "2025-07-30T17:04:21.854054",
     "exception": false,
     "start_time": "2025-07-30T17:04:21.777409",
     "status": "completed"
    },
    "tags": []
   },
   "outputs": [],
   "source": [
    "from langgraph.graph import START,StateGraph\n",
    "\n",
    "graph_builder = StateGraph(State).add_sequence([write_query,execute_query,generate_answer])\n",
    "graph_builder.add_edge(START,\"write_query\")\n",
    "graph = graph_builder.compile()"
   ]
  },
  {
   "cell_type": "code",
   "execution_count": 16,
   "id": "66f3fd1c",
   "metadata": {
    "execution": {
     "iopub.execute_input": "2025-07-30T17:04:21.871083Z",
     "iopub.status.busy": "2025-07-30T17:04:21.870764Z",
     "iopub.status.idle": "2025-07-30T17:04:21.928743Z",
     "shell.execute_reply": "2025-07-30T17:04:21.927750Z"
    },
    "papermill": {
     "duration": 0.06784,
     "end_time": "2025-07-30T17:04:21.930676",
     "exception": false,
     "start_time": "2025-07-30T17:04:21.862836",
     "status": "completed"
    },
    "tags": []
   },
   "outputs": [
    {
     "data": {
      "image/png": "[encoded data removed]",
      "text/plain": [
       "<IPython.core.display.Image object>"
      ]
     },
     "metadata": {},
     "output_type": "display_data"
    }
   ],
   "source": [
    "from IPython.display import Image,display\n",
    "display(Image(graph.get_graph().draw_mermaid_png()))"
   ]
  },
  {
   "cell_type": "code",
   "execution_count": 17,
   "id": "c8227ece",
   "metadata": {
    "execution": {
     "iopub.execute_input": "2025-07-30T17:04:21.948454Z",
     "iopub.status.busy": "2025-07-30T17:04:21.948131Z",
     "iopub.status.idle": "2025-07-30T17:04:53.400619Z",
     "shell.execute_reply": "2025-07-30T17:04:53.399602Z"
    },
    "papermill": {
     "duration": 31.471212,
     "end_time": "2025-07-30T17:04:53.409306",
     "exception": false,
     "start_time": "2025-07-30T17:04:21.938094",
     "status": "completed"
    },
    "tags": []
   },
   "outputs": [
    {
     "name": "stdout",
     "output_type": "stream",
     "text": [
      "{'write_query': {'query': 'SELECT COUNT(*) FROM Employee'}}\n",
      "{'execute_query': {'query_result': '[(8,)]'}}\n",
      "{'generate_answer': {'answer': \"Based on the SQL query result, the answer to the user's question is:\\n\\nThere are 8 employees.\"}}\n"
     ]
    }
   ],
   "source": [
    "for step in graph.stream(\n",
    "    {\"question\": \"How many employees are there?\"}, stream_mode=\"updates\"\n",
    "):\n",
    "    print(step)"
   ]
  },
  {
   "cell_type": "code",
   "execution_count": null,
   "id": "a2f3f00b",
   "metadata": {
    "papermill": {
     "duration": 0.006938,
     "end_time": "2025-07-30T17:04:53.423569",
     "exception": false,
     "start_time": "2025-07-30T17:04:53.416631",
     "status": "completed"
    },
    "tags": []
   },
   "outputs": [],
   "source": []
  }
 ],
 "metadata": {
  "kaggle": {
   "accelerator": "none",
   "dataSources": [
    {
     "datasetId": 3970738,
     "sourceId": 6914376,
     "sourceType": "datasetVersion"
    }
   ],
   "dockerImageVersionId": 31089,
   "isGpuEnabled": false,
   "isInternetEnabled": true,
   "language": "python",
   "sourceType": "notebook"
  },
  "kernelspec": {
   "display_name": "Python 3",
   "language": "python",
   "name": "python3"
  },
  "language_info": {
   "codemirror_mode": {
    "name": "ipython",
    "version": 3
   },
   "file_extension": ".py",
   "mimetype": "text/x-python",
   "name": "python",
   "nbconvert_exporter": "python",
   "pygments_lexer": "ipython3",
   "version": "3.11.13"
  },
  "papermill": {
   "default_parameters": {},
   "duration": 56.695914,
   "end_time": "2025-07-30T17:04:54.552433",
   "environment_variables": {},
   "exception": null,
   "input_path": "__notebook__.ipynb",
   "output_path": "__notebook__.ipynb",
   "parameters": {},
   "start_time": "2025-07-30T17:03:57.856519",
   "version": "2.6.0"
  }
 },
 "nbformat": 4,
 "nbformat_minor": 5
}
