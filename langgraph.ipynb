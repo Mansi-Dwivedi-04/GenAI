{
 "cells": [
  {
   "cell_type": "markdown",
   "id": "e65006ad",
   "metadata": {
    "papermill": {
     "duration": 0.006567,
     "end_time": "2025-08-14T06:21:37.849210",
     "exception": false,
     "start_time": "2025-08-14T06:21:37.842643",
     "status": "completed"
    },
    "tags": []
   },
   "source": [
    "## This notebook has 5 coding questions based on langgraph."
   ]
  },
  {
   "cell_type": "code",
   "execution_count": 1,
   "id": "06a55096",
   "metadata": {
    "execution": {
     "iopub.execute_input": "2025-08-14T06:21:37.862334Z",
     "iopub.status.busy": "2025-08-14T06:21:37.862023Z",
     "iopub.status.idle": "2025-08-14T06:21:37.962051Z",
     "shell.execute_reply": "2025-08-14T06:21:37.961278Z"
    },
    "papermill": {
     "duration": 0.10842,
     "end_time": "2025-08-14T06:21:37.963707",
     "exception": false,
     "start_time": "2025-08-14T06:21:37.855287",
     "status": "completed"
    },
    "tags": []
   },
   "outputs": [],
   "source": [
    "from kaggle_secrets import UserSecretsClient\n",
    "user_secrets = UserSecretsClient()\n",
    "secret_value_0 = user_secrets.get_secret(\"groq_key\")\n"
   ]
  },
  {
   "cell_type": "code",
   "execution_count": 2,
   "id": "04a62426",
   "metadata": {
    "execution": {
     "iopub.execute_input": "2025-08-14T06:21:37.977104Z",
     "iopub.status.busy": "2025-08-14T06:21:37.976794Z",
     "iopub.status.idle": "2025-08-14T06:21:48.914834Z",
     "shell.execute_reply": "2025-08-14T06:21:48.913841Z"
    },
    "papermill": {
     "duration": 10.946585,
     "end_time": "2025-08-14T06:21:48.916504",
     "exception": false,
     "start_time": "2025-08-14T06:21:37.969919",
     "status": "completed"
    },
    "tags": []
   },
   "outputs": [
    {
     "name": "stdout",
     "output_type": "stream",
     "text": [
      "Requirement already satisfied: langchain in /usr/local/lib/python3.11/dist-packages (0.3.26)\r\n",
      "Collecting langgraph\r\n",
      "  Downloading langgraph-0.6.5-py3-none-any.whl.metadata (6.8 kB)\r\n",
      "Collecting langchain-groq\r\n",
      "  Downloading langchain_groq-0.3.7-py3-none-any.whl.metadata (2.6 kB)\r\n",
      "Collecting langchain_community\r\n",
      "  Downloading langchain_community-0.3.27-py3-none-any.whl.metadata (2.9 kB)\r\n",
      "Requirement already satisfied: langchain-core<1.0.0,>=0.3.66 in /usr/local/lib/python3.11/dist-packages (from langchain) (0.3.66)\r\n",
      "Requirement already satisfied: langchain-text-splitters<1.0.0,>=0.3.8 in /usr/local/lib/python3.11/dist-packages (from langchain) (0.3.8)\r\n",
      "Requirement already satisfied: langsmith>=0.1.17 in /usr/local/lib/python3.11/dist-packages (from langchain) (0.4.1)\r\n",
      "Requirement already satisfied: pydantic<3.0.0,>=2.7.4 in /usr/local/lib/python3.11/dist-packages (from langchain) (2.11.7)\r\n",
      "Requirement already satisfied: SQLAlchemy<3,>=1.4 in /usr/local/lib/python3.11/dist-packages (from langchain) (2.0.41)\r\n",
      "Requirement already satisfied: requests<3,>=2 in /usr/local/lib/python3.11/dist-packages (from langchain) (2.32.4)\r\n",
      "Requirement already satisfied: PyYAML>=5.3 in /usr/local/lib/python3.11/dist-packages (from langchain) (6.0.2)\r\n",
      "Collecting langgraph-checkpoint<3.0.0,>=2.1.0 (from langgraph)\r\n",
      "  Downloading langgraph_checkpoint-2.1.1-py3-none-any.whl.metadata (4.2 kB)\r\n",
      "Collecting langgraph-prebuilt<0.7.0,>=0.6.0 (from langgraph)\r\n",
      "  Downloading langgraph_prebuilt-0.6.4-py3-none-any.whl.metadata (4.5 kB)\r\n",
      "Collecting langgraph-sdk<0.3.0,>=0.2.0 (from langgraph)\r\n",
      "  Downloading langgraph_sdk-0.2.0-py3-none-any.whl.metadata (1.5 kB)\r\n",
      "Requirement already satisfied: xxhash>=3.5.0 in /usr/local/lib/python3.11/dist-packages (from langgraph) (3.5.0)\r\n",
      "Collecting langchain-core<1.0.0,>=0.3.66 (from langchain)\r\n",
      "  Downloading langchain_core-0.3.74-py3-none-any.whl.metadata (5.8 kB)\r\n",
      "Collecting groq<1,>=0.30.0 (from langchain-groq)\r\n",
      "  Downloading groq-0.31.0-py3-none-any.whl.metadata (16 kB)\r\n",
      "Requirement already satisfied: aiohttp<4.0.0,>=3.8.3 in /usr/local/lib/python3.11/dist-packages (from langchain_community) (3.12.13)\r\n",
      "Requirement already satisfied: tenacity!=8.4.0,<10,>=8.1.0 in /usr/local/lib/python3.11/dist-packages (from langchain_community) (8.5.0)\r\n",
      "Requirement already satisfied: dataclasses-json<0.7,>=0.5.7 in /usr/local/lib/python3.11/dist-packages (from langchain_community) (0.6.7)\r\n",
      "Collecting pydantic-settings<3.0.0,>=2.4.0 (from langchain_community)\r\n",
      "  Downloading pydantic_settings-2.10.1-py3-none-any.whl.metadata (3.4 kB)\r\n",
      "Collecting httpx-sse<1.0.0,>=0.4.0 (from langchain_community)\r\n",
      "  Downloading httpx_sse-0.4.1-py3-none-any.whl.metadata (9.4 kB)\r\n",
      "Requirement already satisfied: numpy>=1.26.2 in /usr/local/lib/python3.11/dist-packages (from langchain_community) (1.26.4)\r\n",
      "Requirement already satisfied: aiohappyeyeballs>=2.5.0 in /usr/local/lib/python3.11/dist-packages (from aiohttp<4.0.0,>=3.8.3->langchain_community) (2.6.1)\r\n",
      "Requirement already satisfied: aiosignal>=1.1.2 in /usr/local/lib/python3.11/dist-packages (from aiohttp<4.0.0,>=3.8.3->langchain_community) (1.3.2)\r\n",
      "Requirement already satisfied: attrs>=17.3.0 in /usr/local/lib/python3.11/dist-packages (from aiohttp<4.0.0,>=3.8.3->langchain_community) (25.3.0)\r\n",
      "Requirement already satisfied: frozenlist>=1.1.1 in /usr/local/lib/python3.11/dist-packages (from aiohttp<4.0.0,>=3.8.3->langchain_community) (1.7.0)\r\n",
      "Requirement already satisfied: multidict<7.0,>=4.5 in /usr/local/lib/python3.11/dist-packages (from aiohttp<4.0.0,>=3.8.3->langchain_community) (6.6.3)\r\n",
      "Requirement already satisfied: propcache>=0.2.0 in /usr/local/lib/python3.11/dist-packages (from aiohttp<4.0.0,>=3.8.3->langchain_community) (0.3.2)\r\n",
      "Requirement already satisfied: yarl<2.0,>=1.17.0 in /usr/local/lib/python3.11/dist-packages (from aiohttp<4.0.0,>=3.8.3->langchain_community) (1.20.1)\r\n",
      "Requirement already satisfied: marshmallow<4.0.0,>=3.18.0 in /usr/local/lib/python3.11/dist-packages (from dataclasses-json<0.7,>=0.5.7->langchain_community) (3.26.1)\r\n",
      "Requirement already satisfied: typing-inspect<1,>=0.4.0 in /usr/local/lib/python3.11/dist-packages (from dataclasses-json<0.7,>=0.5.7->langchain_community) (0.9.0)\r\n",
      "Requirement already satisfied: anyio<5,>=3.5.0 in /usr/local/lib/python3.11/dist-packages (from groq<1,>=0.30.0->langchain-groq) (4.9.0)\r\n",
      "Requirement already satisfied: distro<2,>=1.7.0 in /usr/local/lib/python3.11/dist-packages (from groq<1,>=0.30.0->langchain-groq) (1.9.0)\r\n",
      "Requirement already satisfied: httpx<1,>=0.23.0 in /usr/local/lib/python3.11/dist-packages (from groq<1,>=0.30.0->langchain-groq) (0.28.1)\r\n",
      "Requirement already satisfied: sniffio in /usr/local/lib/python3.11/dist-packages (from groq<1,>=0.30.0->langchain-groq) (1.3.1)\r\n",
      "Requirement already satisfied: typing-extensions<5,>=4.10 in /usr/local/lib/python3.11/dist-packages (from groq<1,>=0.30.0->langchain-groq) (4.14.0)\r\n",
      "Requirement already satisfied: jsonpatch<2.0,>=1.33 in /usr/local/lib/python3.11/dist-packages (from langchain-core<1.0.0,>=0.3.66->langchain) (1.33)\r\n",
      "Requirement already satisfied: packaging>=23.2 in /usr/local/lib/python3.11/dist-packages (from langchain-core<1.0.0,>=0.3.66->langchain) (25.0)\r\n",
      "Collecting ormsgpack>=1.10.0 (from langgraph-checkpoint<3.0.0,>=2.1.0->langgraph)\r\n",
      "  Downloading ormsgpack-1.10.0-cp311-cp311-manylinux_2_17_x86_64.manylinux2014_x86_64.whl.metadata (43 kB)\r\n",
      "\u001b[2K     \u001b[90m━━━━━━━━━━━━━━━━━━━━━━━━━━━━━━━━━━━━━━━━\u001b[0m \u001b[32m43.7/43.7 kB\u001b[0m \u001b[31m1.4 MB/s\u001b[0m eta \u001b[36m0:00:00\u001b[0m\r\n",
      "\u001b[?25hRequirement already satisfied: orjson>=3.10.1 in /usr/local/lib/python3.11/dist-packages (from langgraph-sdk<0.3.0,>=0.2.0->langgraph) (3.10.18)\r\n",
      "Requirement already satisfied: requests-toolbelt<2.0.0,>=1.0.0 in /usr/local/lib/python3.11/dist-packages (from langsmith>=0.1.17->langchain) (1.0.0)\r\n",
      "Requirement already satisfied: zstandard<0.24.0,>=0.23.0 in /usr/local/lib/python3.11/dist-packages (from langsmith>=0.1.17->langchain) (0.23.0)\r\n",
      "Requirement already satisfied: mkl_fft in /usr/local/lib/python3.11/dist-packages (from numpy>=1.26.2->langchain_community) (1.3.8)\r\n",
      "Requirement already satisfied: mkl_random in /usr/local/lib/python3.11/dist-packages (from numpy>=1.26.2->langchain_community) (1.2.4)\r\n",
      "Requirement already satisfied: mkl_umath in /usr/local/lib/python3.11/dist-packages (from numpy>=1.26.2->langchain_community) (0.1.1)\r\n",
      "Requirement already satisfied: mkl in /usr/local/lib/python3.11/dist-packages (from numpy>=1.26.2->langchain_community) (2025.2.0)\r\n",
      "Requirement already satisfied: tbb4py in /usr/local/lib/python3.11/dist-packages (from numpy>=1.26.2->langchain_community) (2022.2.0)\r\n",
      "Requirement already satisfied: mkl-service in /usr/local/lib/python3.11/dist-packages (from numpy>=1.26.2->langchain_community) (2.4.1)\r\n",
      "Requirement already satisfied: annotated-types>=0.6.0 in /usr/local/lib/python3.11/dist-packages (from pydantic<3.0.0,>=2.7.4->langchain) (0.7.0)\r\n",
      "Requirement already satisfied: pydantic-core==2.33.2 in /usr/local/lib/python3.11/dist-packages (from pydantic<3.0.0,>=2.7.4->langchain) (2.33.2)\r\n",
      "Requirement already satisfied: typing-inspection>=0.4.0 in /usr/local/lib/python3.11/dist-packages (from pydantic<3.0.0,>=2.7.4->langchain) (0.4.1)\r\n",
      "Collecting python-dotenv>=0.21.0 (from pydantic-settings<3.0.0,>=2.4.0->langchain_community)\r\n",
      "  Downloading python_dotenv-1.1.1-py3-none-any.whl.metadata (24 kB)\r\n",
      "Requirement already satisfied: charset_normalizer<4,>=2 in /usr/local/lib/python3.11/dist-packages (from requests<3,>=2->langchain) (3.4.2)\r\n",
      "Requirement already satisfied: idna<4,>=2.5 in /usr/local/lib/python3.11/dist-packages (from requests<3,>=2->langchain) (3.10)\r\n",
      "Requirement already satisfied: urllib3<3,>=1.21.1 in /usr/local/lib/python3.11/dist-packages (from requests<3,>=2->langchain) (2.5.0)\r\n",
      "Requirement already satisfied: certifi>=2017.4.17 in /usr/local/lib/python3.11/dist-packages (from requests<3,>=2->langchain) (2025.6.15)\r\n",
      "Requirement already satisfied: greenlet>=1 in /usr/local/lib/python3.11/dist-packages (from SQLAlchemy<3,>=1.4->langchain) (3.2.3)\r\n",
      "Requirement already satisfied: httpcore==1.* in /usr/local/lib/python3.11/dist-packages (from httpx<1,>=0.23.0->groq<1,>=0.30.0->langchain-groq) (1.0.9)\r\n",
      "Requirement already satisfied: h11>=0.16 in /usr/local/lib/python3.11/dist-packages (from httpcore==1.*->httpx<1,>=0.23.0->groq<1,>=0.30.0->langchain-groq) (0.16.0)\r\n",
      "Requirement already satisfied: jsonpointer>=1.9 in /usr/local/lib/python3.11/dist-packages (from jsonpatch<2.0,>=1.33->langchain-core<1.0.0,>=0.3.66->langchain) (3.0.0)\r\n",
      "Requirement already satisfied: mypy-extensions>=0.3.0 in /usr/local/lib/python3.11/dist-packages (from typing-inspect<1,>=0.4.0->dataclasses-json<0.7,>=0.5.7->langchain_community) (1.1.0)\r\n",
      "Requirement already satisfied: intel-openmp<2026,>=2024 in /usr/local/lib/python3.11/dist-packages (from mkl->numpy>=1.26.2->langchain_community) (2024.2.0)\r\n",
      "Requirement already satisfied: tbb==2022.* in /usr/local/lib/python3.11/dist-packages (from mkl->numpy>=1.26.2->langchain_community) (2022.2.0)\r\n",
      "Requirement already satisfied: tcmlib==1.* in /usr/local/lib/python3.11/dist-packages (from tbb==2022.*->mkl->numpy>=1.26.2->langchain_community) (1.4.0)\r\n",
      "Requirement already satisfied: intel-cmplr-lib-rt in /usr/local/lib/python3.11/dist-packages (from mkl_umath->numpy>=1.26.2->langchain_community) (2024.2.0)\r\n",
      "Requirement already satisfied: intel-cmplr-lib-ur==2024.2.0 in /usr/local/lib/python3.11/dist-packages (from intel-openmp<2026,>=2024->mkl->numpy>=1.26.2->langchain_community) (2024.2.0)\r\n",
      "Downloading langgraph-0.6.5-py3-none-any.whl (153 kB)\r\n",
      "\u001b[2K   \u001b[90m━━━━━━━━━━━━━━━━━━━━━━━━━━━━━━━━━━━━━━━━\u001b[0m \u001b[32m153.2/153.2 kB\u001b[0m \u001b[31m5.2 MB/s\u001b[0m eta \u001b[36m0:00:00\u001b[0m\r\n",
      "\u001b[?25hDownloading langchain_groq-0.3.7-py3-none-any.whl (16 kB)\r\n",
      "Downloading langchain_community-0.3.27-py3-none-any.whl (2.5 MB)\r\n",
      "\u001b[2K   \u001b[90m━━━━━━━━━━━━━━━━━━━━━━━━━━━━━━━━━━━━━━━━\u001b[0m \u001b[32m2.5/2.5 MB\u001b[0m \u001b[31m39.4 MB/s\u001b[0m eta \u001b[36m0:00:00\u001b[0m\r\n",
      "\u001b[?25hDownloading groq-0.31.0-py3-none-any.whl (131 kB)\r\n",
      "\u001b[2K   \u001b[90m━━━━━━━━━━━━━━━━━━━━━━━━━━━━━━━━━━━━━━━━\u001b[0m \u001b[32m131.4/131.4 kB\u001b[0m \u001b[31m8.9 MB/s\u001b[0m eta \u001b[36m0:00:00\u001b[0m\r\n",
      "\u001b[?25hDownloading httpx_sse-0.4.1-py3-none-any.whl (8.1 kB)\r\n",
      "Downloading langchain_core-0.3.74-py3-none-any.whl (443 kB)\r\n",
      "\u001b[2K   \u001b[90m━━━━━━━━━━━━━━━━━━━━━━━━━━━━━━━━━━━━━━━━\u001b[0m \u001b[32m443.5/443.5 kB\u001b[0m \u001b[31m23.7 MB/s\u001b[0m eta \u001b[36m0:00:00\u001b[0m\r\n",
      "\u001b[?25hDownloading langgraph_checkpoint-2.1.1-py3-none-any.whl (43 kB)\r\n",
      "\u001b[2K   \u001b[90m━━━━━━━━━━━━━━━━━━━━━━━━━━━━━━━━━━━━━━━━\u001b[0m \u001b[32m43.9/43.9 kB\u001b[0m \u001b[31m2.4 MB/s\u001b[0m eta \u001b[36m0:00:00\u001b[0m\r\n",
      "\u001b[?25hDownloading langgraph_prebuilt-0.6.4-py3-none-any.whl (28 kB)\r\n",
      "Downloading langgraph_sdk-0.2.0-py3-none-any.whl (50 kB)\r\n",
      "\u001b[2K   \u001b[90m━━━━━━━━━━━━━━━━━━━━━━━━━━━━━━━━━━━━━━━━\u001b[0m \u001b[32m50.6/50.6 kB\u001b[0m \u001b[31m2.8 MB/s\u001b[0m eta \u001b[36m0:00:00\u001b[0m\r\n",
      "\u001b[?25hDownloading pydantic_settings-2.10.1-py3-none-any.whl (45 kB)\r\n",
      "\u001b[2K   \u001b[90m━━━━━━━━━━━━━━━━━━━━━━━━━━━━━━━━━━━━━━━━\u001b[0m \u001b[32m45.2/45.2 kB\u001b[0m \u001b[31m2.3 MB/s\u001b[0m eta \u001b[36m0:00:00\u001b[0m\r\n",
      "\u001b[?25hDownloading ormsgpack-1.10.0-cp311-cp311-manylinux_2_17_x86_64.manylinux2014_x86_64.whl (216 kB)\r\n",
      "\u001b[2K   \u001b[90m━━━━━━━━━━━━━━━━━━━━━━━━━━━━━━━━━━━━━━━━\u001b[0m \u001b[32m216.5/216.5 kB\u001b[0m \u001b[31m13.5 MB/s\u001b[0m eta \u001b[36m0:00:00\u001b[0m\r\n",
      "\u001b[?25hDownloading python_dotenv-1.1.1-py3-none-any.whl (20 kB)\r\n",
      "Installing collected packages: python-dotenv, ormsgpack, httpx-sse, pydantic-settings, langgraph-sdk, groq, langchain-core, langgraph-checkpoint, langchain-groq, langgraph-prebuilt, langgraph, langchain_community\r\n",
      "  Attempting uninstall: langchain-core\r\n",
      "    Found existing installation: langchain-core 0.3.66\r\n",
      "    Uninstalling langchain-core-0.3.66:\r\n",
      "      Successfully uninstalled langchain-core-0.3.66\r\n",
      "Successfully installed groq-0.31.0 httpx-sse-0.4.1 langchain-core-0.3.74 langchain-groq-0.3.7 langchain_community-0.3.27 langgraph-0.6.5 langgraph-checkpoint-2.1.1 langgraph-prebuilt-0.6.4 langgraph-sdk-0.2.0 ormsgpack-1.10.0 pydantic-settings-2.10.1 python-dotenv-1.1.1\r\n"
     ]
    }
   ],
   "source": [
    "! pip install langchain langgraph langchain-groq langchain_community"
   ]
  },
  {
   "cell_type": "code",
   "execution_count": 3,
   "id": "76d30330",
   "metadata": {
    "execution": {
     "iopub.execute_input": "2025-08-14T06:21:48.933779Z",
     "iopub.status.busy": "2025-08-14T06:21:48.933423Z",
     "iopub.status.idle": "2025-08-14T06:21:51.011588Z",
     "shell.execute_reply": "2025-08-14T06:21:51.010725Z"
    },
    "papermill": {
     "duration": 2.088657,
     "end_time": "2025-08-14T06:21:51.013176",
     "exception": false,
     "start_time": "2025-08-14T06:21:48.924519",
     "status": "completed"
    },
    "tags": []
   },
   "outputs": [],
   "source": [
    "import os\n",
    "if not os.environ.get(\"GROQ_API_KEY\"):\n",
    "    os.environ[\"GROQ_API_KEY\"] = secret_value_0\n",
    "\n",
    "from langchain.chat_models import init_chat_model\n",
    "llm = init_chat_model(model = \"llama3-8b-8192\", model_provider=\"groq\")"
   ]
  },
  {
   "cell_type": "markdown",
   "id": "733dc373",
   "metadata": {
    "papermill": {
     "duration": 0.008074,
     "end_time": "2025-08-14T06:21:51.029085",
     "exception": false,
     "start_time": "2025-08-14T06:21:51.021011",
     "status": "completed"
    },
    "tags": []
   },
   "source": [
    "# Question 1: \n",
    "\n",
    "Write a simple LangGraph with two nodes:\n",
    "\n",
    "* A user_input node that accepts a string.\n",
    "\n",
    "* A llm_response node that uses Groq to generate a response based on the input.\n",
    "\n",
    "The flow should:\n",
    "\n",
    "* Start from user_input → go to llm_response → and return the final result.\n",
    "\n",
    "📌 Constraints:\n",
    "\n",
    "* Input should be \"Tell me a joke\"."
   ]
  },
  {
   "cell_type": "code",
   "execution_count": 4,
   "id": "3d54a5d3",
   "metadata": {
    "execution": {
     "iopub.execute_input": "2025-08-14T06:21:51.045550Z",
     "iopub.status.busy": "2025-08-14T06:21:51.045134Z",
     "iopub.status.idle": "2025-08-14T06:21:51.077033Z",
     "shell.execute_reply": "2025-08-14T06:21:51.076282Z"
    },
    "papermill": {
     "duration": 0.042064,
     "end_time": "2025-08-14T06:21:51.078659",
     "exception": false,
     "start_time": "2025-08-14T06:21:51.036595",
     "status": "completed"
    },
    "tags": []
   },
   "outputs": [],
   "source": [
    "from langchain_core.prompts import PromptTemplate\n",
    "prompt = PromptTemplate(\n",
    "    input_variables = ['input'],\n",
    "    template = \"Reply to this query.\\n\\n{input}\"\n",
    ")"
   ]
  },
  {
   "cell_type": "code",
   "execution_count": 5,
   "id": "402ab2b4",
   "metadata": {
    "execution": {
     "iopub.execute_input": "2025-08-14T06:21:51.095151Z",
     "iopub.status.busy": "2025-08-14T06:21:51.094843Z",
     "iopub.status.idle": "2025-08-14T06:21:51.159344Z",
     "shell.execute_reply": "2025-08-14T06:21:51.158535Z"
    },
    "papermill": {
     "duration": 0.074575,
     "end_time": "2025-08-14T06:21:51.160981",
     "exception": false,
     "start_time": "2025-08-14T06:21:51.086406",
     "status": "completed"
    },
    "tags": []
   },
   "outputs": [],
   "source": [
    "from typing_extensions import TypedDict\n",
    "from langgraph.graph import START,StateGraph\n",
    "class State(TypedDict):\n",
    "    question: str\n",
    "    result: str\n",
    "\n",
    "\n",
    "def user_input(state:State):\n",
    "    \"\"\"Takes user input\"\"\"\n",
    "    input_str = \"Tell me a joke\"\n",
    "    user_prompt = prompt.format(input=input_str)\n",
    "    return {\"question\":user_prompt}\n",
    "\n",
    "def llm_response(state:State):\n",
    "    \"\"\"LLM responding to the question\"\"\"\n",
    "    response = llm.invoke(state['question'])\n",
    "    return {\"result\":response.content}\n",
    "\n",
    "graph_builder = StateGraph(State).add_sequence([user_input,llm_response])\n",
    "graph_builder.add_edge(START,\"user_input\")\n",
    "graph = graph_builder.compile()"
   ]
  },
  {
   "cell_type": "code",
   "execution_count": 6,
   "id": "4d6e82ee",
   "metadata": {
    "execution": {
     "iopub.execute_input": "2025-08-14T06:21:51.177430Z",
     "iopub.status.busy": "2025-08-14T06:21:51.177133Z",
     "iopub.status.idle": "2025-08-14T06:21:51.692478Z",
     "shell.execute_reply": "2025-08-14T06:21:51.691479Z"
    },
    "papermill": {
     "duration": 0.525275,
     "end_time": "2025-08-14T06:21:51.693966",
     "exception": false,
     "start_time": "2025-08-14T06:21:51.168691",
     "status": "completed"
    },
    "tags": []
   },
   "outputs": [
    {
     "name": "stdout",
     "output_type": "stream",
     "text": [
      "Here's one:\n",
      "\n",
      "Why couldn't the bicycle stand up by itself?\n",
      "\n",
      "(Wait for it...)\n",
      "\n",
      "Because it was two-tired!\n",
      "\n",
      "Hope that made you smile!\n"
     ]
    }
   ],
   "source": [
    "final_result = graph.invoke({})\n",
    "print(final_result['result'])"
   ]
  },
  {
   "cell_type": "code",
   "execution_count": 7,
   "id": "db756188",
   "metadata": {
    "execution": {
     "iopub.execute_input": "2025-08-14T06:21:51.710636Z",
     "iopub.status.busy": "2025-08-14T06:21:51.710309Z",
     "iopub.status.idle": "2025-08-14T06:21:52.012027Z",
     "shell.execute_reply": "2025-08-14T06:21:52.011252Z"
    },
    "papermill": {
     "duration": 0.311492,
     "end_time": "2025-08-14T06:21:52.013404",
     "exception": false,
     "start_time": "2025-08-14T06:21:51.701912",
     "status": "completed"
    },
    "tags": []
   },
   "outputs": [
    {
     "data": {
      "image/png": "[encoded data removed]",
      "text/plain": [
       "<IPython.core.display.Image object>"
      ]
     },
     "metadata": {},
     "output_type": "display_data"
    }
   ],
   "source": [
    "from IPython.display import display,Image\n",
    "display(Image(graph.get_graph().draw_mermaid_png()))"
   ]
  },
  {
   "cell_type": "markdown",
   "id": "f190bfd4",
   "metadata": {
    "papermill": {
     "duration": 0.007601,
     "end_time": "2025-08-14T06:21:52.029124",
     "exception": false,
     "start_time": "2025-08-14T06:21:52.021523",
     "status": "completed"
    },
    "tags": []
   },
   "source": [
    "# Question 2:\n",
    "You are building a LangGraph that translates a sentence from English to French using Groq's llama3-8b-8192 model.\n",
    "You need to build a 3-node graph:\n",
    "\n",
    "* A node to accept English input from the user.\n",
    "\n",
    "* A node to create a prompt for translation.\n",
    "\n",
    "* A node that gets the translated French sentence from the LLM."
   ]
  },
  {
   "cell_type": "code",
   "execution_count": 8,
   "id": "bc2cf88a",
   "metadata": {
    "execution": {
     "iopub.execute_input": "2025-08-14T06:21:52.046608Z",
     "iopub.status.busy": "2025-08-14T06:21:52.046263Z",
     "iopub.status.idle": "2025-08-14T06:21:52.333056Z",
     "shell.execute_reply": "2025-08-14T06:21:52.332229Z"
    },
    "papermill": {
     "duration": 0.296971,
     "end_time": "2025-08-14T06:21:52.334428",
     "exception": false,
     "start_time": "2025-08-14T06:21:52.037457",
     "status": "completed"
    },
    "tags": []
   },
   "outputs": [
    {
     "data": {
      "text/plain": [
       "{'question': 'Where is the nearest train station?',\n",
       " 'prompt': 'Translate this sentence into French:\\n\\nWhere is the nearest train station?',\n",
       " 'result': 'Here is the translation:\\n\\nOù est la gare de train la plus proche ?\\n\\nNote: \"gare de train\" can be translated to \"train station\" in English, but in French, it\\'s more common to use the phrase \"gare de train\" to refer to a train station specifically for trains, whereas \"gare\" alone can refer to a general transportation station or hub.'}"
      ]
     },
     "execution_count": 8,
     "metadata": {},
     "output_type": "execute_result"
    }
   ],
   "source": [
    "from typing_extensions import TypedDict\n",
    "class State(TypedDict):\n",
    "    \"\"\"Defining State for our graph\"\"\"\n",
    "    question: str\n",
    "    prompt: str\n",
    "    result: str\n",
    "\n",
    "def inputs(state:State) -> State:\n",
    "    \"\"\"This input formats input.\"\"\"\n",
    "    inputs = \"Where is the nearest train station?\"\n",
    "    return {\"question\":inputs}\n",
    "\n",
    "def create_prompts(state:State) -> State:\n",
    "    \"\"\"Generates prompt.\"\"\"\n",
    "    prompt = f\"Translate this sentence into French:\\n\\n{state['question']}\"\n",
    "    return {\"prompt\": prompt}\n",
    "\n",
    "def translate_to_French(state:State) -> State:\n",
    "    \"\"\"Return French translation of English sentence.\"\"\"\n",
    "    result = llm.invoke(state['prompt'])\n",
    "    return {\"result\": result.content}\n",
    "\n",
    "graph_builder = StateGraph(State).add_sequence([inputs,create_prompts,translate_to_French])\n",
    "graph_builder.add_edge(START,\"inputs\")\n",
    "graph = graph_builder.compile()\n",
    "\n",
    "graph.invoke({})"
   ]
  },
  {
   "cell_type": "code",
   "execution_count": 9,
   "id": "2e369dd6",
   "metadata": {
    "execution": {
     "iopub.execute_input": "2025-08-14T06:21:52.352314Z",
     "iopub.status.busy": "2025-08-14T06:21:52.351495Z",
     "iopub.status.idle": "2025-08-14T06:21:52.624845Z",
     "shell.execute_reply": "2025-08-14T06:21:52.624037Z"
    },
    "papermill": {
     "duration": 0.28346,
     "end_time": "2025-08-14T06:21:52.626219",
     "exception": false,
     "start_time": "2025-08-14T06:21:52.342759",
     "status": "completed"
    },
    "tags": []
   },
   "outputs": [
    {
     "data": {
      "image/png": "[encoded data removed]",
      "text/plain": [
       "<IPython.core.display.Image object>"
      ]
     },
     "metadata": {},
     "output_type": "display_data"
    }
   ],
   "source": [
    "from IPython.display import display,Image\n",
    "display(Image(graph.get_graph().draw_mermaid_png()))"
   ]
  },
  {
   "cell_type": "markdown",
   "id": "6a77190d",
   "metadata": {
    "papermill": {
     "duration": 0.00832,
     "end_time": "2025-08-14T06:21:52.643161",
     "exception": false,
     "start_time": "2025-08-14T06:21:52.634841",
     "status": "completed"
    },
    "tags": []
   },
   "source": [
    "# Question 3:\n",
    "\n",
    "You're building a LangGraph workflow that uses LangChain tools.\n",
    "\n",
    "You want to:\n",
    "\n",
    "* Accept a user's question (e.g., \"Show me all employees in the Sales department\"),\n",
    "\n",
    "* Generate a SQL query from it using an LLM,\n",
    "\n",
    "* Execute the SQL query using a tool (QuerySQLDatabaseTool), and\n",
    "\n",
    "* Return the final result."
   ]
  },
  {
   "cell_type": "code",
   "execution_count": 10,
   "id": "fc348d3a",
   "metadata": {
    "execution": {
     "iopub.execute_input": "2025-08-14T06:21:52.660796Z",
     "iopub.status.busy": "2025-08-14T06:21:52.660485Z",
     "iopub.status.idle": "2025-08-14T06:21:53.599101Z",
     "shell.execute_reply": "2025-08-14T06:21:53.598060Z"
    },
    "papermill": {
     "duration": 0.949218,
     "end_time": "2025-08-14T06:21:53.600599",
     "exception": false,
     "start_time": "2025-08-14T06:21:52.651381",
     "status": "completed"
    },
    "tags": []
   },
   "outputs": [
    {
     "name": "stdout",
     "output_type": "stream",
     "text": [
      "sqlite\n",
      "['Album', 'Artist', 'Customer', 'Employee', 'Genre', 'Invoice', 'InvoiceLine', 'MediaType', 'Playlist', 'PlaylistTrack', 'Track']\n"
     ]
    }
   ],
   "source": [
    "from langchain_community.utilities import SQLDatabase\n",
    "db=SQLDatabase.from_uri(\"sqlite:////kaggle/input/chinook/Chinook_Sqlite.sqlite\")\n",
    "print(db.dialect)\n",
    "print(db.get_usable_table_names())\n"
   ]
  },
  {
   "cell_type": "code",
   "execution_count": 11,
   "id": "67e1082f",
   "metadata": {
    "execution": {
     "iopub.execute_input": "2025-08-14T06:21:53.618552Z",
     "iopub.status.busy": "2025-08-14T06:21:53.618263Z",
     "iopub.status.idle": "2025-08-14T06:21:53.622464Z",
     "shell.execute_reply": "2025-08-14T06:21:53.621788Z"
    },
    "papermill": {
     "duration": 0.014593,
     "end_time": "2025-08-14T06:21:53.623771",
     "exception": false,
     "start_time": "2025-08-14T06:21:53.609178",
     "status": "completed"
    },
    "tags": []
   },
   "outputs": [],
   "source": [
    "from typing_extensions import TypedDict, Annotated\n",
    "class State(TypedDict):\n",
    "    question: str\n",
    "    query: str\n",
    "    query_result: str\n",
    "    result:str\n",
    "\n",
    "    "
   ]
  },
  {
   "cell_type": "code",
   "execution_count": 12,
   "id": "861b4cf8",
   "metadata": {
    "execution": {
     "iopub.execute_input": "2025-08-14T06:21:53.643543Z",
     "iopub.status.busy": "2025-08-14T06:21:53.643137Z",
     "iopub.status.idle": "2025-08-14T06:21:53.768959Z",
     "shell.execute_reply": "2025-08-14T06:21:53.767906Z"
    },
    "papermill": {
     "duration": 0.136583,
     "end_time": "2025-08-14T06:21:53.770475",
     "exception": false,
     "start_time": "2025-08-14T06:21:53.633892",
     "status": "completed"
    },
    "tags": []
   },
   "outputs": [
    {
     "name": "stdout",
     "output_type": "stream",
     "text": [
      "================================\u001b[1m System Message \u001b[0m================================\n",
      "\n",
      "Given an input question, create a syntactically correct \u001b[33;1m\u001b[1;3m{dialect}\u001b[0m query to\n",
      "run to help find the answer. Unless the user specifies in his question a\n",
      "specific number of examples they wish to obtain, always limit your query to\n",
      "at most \u001b[33;1m\u001b[1;3m{top_k}\u001b[0m results. You can order the results by a relevant column to\n",
      "return the most interesting examples in the database.\n",
      "\n",
      "Never query for all the columns from a specific table, only ask for a the\n",
      "few relevant columns given the question.\n",
      "\n",
      "Pay attention to use only the column names that you can see in the schema\n",
      "description. Be careful to not query for columns that do not exist. Also,\n",
      "pay attention to which column is in which table.\n",
      "\n",
      "Only use the following tables:\n",
      "\u001b[33;1m\u001b[1;3m{table_info}\u001b[0m\n",
      "\n",
      "================================\u001b[1m Human Message \u001b[0m=================================\n",
      "\n",
      "Question:\u001b[33;1m\u001b[1;3m{question}\u001b[0m\n"
     ]
    }
   ],
   "source": [
    "from langchain_core.prompts import ChatPromptTemplate\n",
    "system=\"\"\"Given an input question, create a syntactically correct {dialect} query to\n",
    "run to help find the answer. Unless the user specifies in his question a\n",
    "specific number of examples they wish to obtain, always limit your query to\n",
    "at most {top_k} results. You can order the results by a relevant column to\n",
    "return the most interesting examples in the database.\n",
    "\n",
    "Never query for all the columns from a specific table, only ask for a the\n",
    "few relevant columns given the question.\n",
    "\n",
    "Pay attention to use only the column names that you can see in the schema\n",
    "description. Be careful to not query for columns that do not exist. Also,\n",
    "pay attention to which column is in which table.\n",
    "\n",
    "Only use the following tables:\n",
    "{table_info}\n",
    "\"\"\"\n",
    "human = \"Question:{question}\"\n",
    "\n",
    "chat = ChatPromptTemplate(\n",
    "    [(\"system\",system),(\"user\",human)]\n",
    ")\n",
    "for message in chat.messages:\n",
    "    message.pretty_print()\n",
    "\n",
    "\n",
    "\n",
    "class QueryOutput(TypedDict):\n",
    "    \"\"\"Query Output\"\"\"\n",
    "    query: Annotated[str,...,\"Syntactically valid SQL query\"]\n",
    "\n",
    "def generate_query(state:State)->State:\n",
    "    \"\"\"Genrate SQL Query\"\"\"\n",
    "    prompt = chat.invoke(\n",
    "        {\n",
    "            \"dialect\":db.dialect,\n",
    "            \"top_k\":8,\n",
    "            \"table_info\":db.get_table_info(),\n",
    "            \"question\":state[\"question\"]\n",
    "        }\n",
    "    )\n",
    "    structured_llm = llm.with_structured_output(QueryOutput)\n",
    "    result = structured_llm.invoke(prompt)\n",
    "    return {\"query\":result[\"query\"]}\n"
   ]
  },
  {
   "cell_type": "code",
   "execution_count": 13,
   "id": "c5af4d33",
   "metadata": {
    "execution": {
     "iopub.execute_input": "2025-08-14T06:21:53.788465Z",
     "iopub.status.busy": "2025-08-14T06:21:53.787905Z",
     "iopub.status.idle": "2025-08-14T06:21:54.415448Z",
     "shell.execute_reply": "2025-08-14T06:21:54.414640Z"
    },
    "papermill": {
     "duration": 0.637836,
     "end_time": "2025-08-14T06:21:54.416783",
     "exception": false,
     "start_time": "2025-08-14T06:21:53.778947",
     "status": "completed"
    },
    "tags": []
   },
   "outputs": [
    {
     "data": {
      "text/plain": [
       "{'query': 'SELECT COUNT(*) FROM Playlist'}"
      ]
     },
     "execution_count": 13,
     "metadata": {},
     "output_type": "execute_result"
    }
   ],
   "source": [
    "ques = \"How many Playlists are there?\"\n",
    "generate_query({\"question\":ques})"
   ]
  },
  {
   "cell_type": "code",
   "execution_count": 14,
   "id": "dcc7cd04",
   "metadata": {
    "execution": {
     "iopub.execute_input": "2025-08-14T06:21:54.435746Z",
     "iopub.status.busy": "2025-08-14T06:21:54.435433Z",
     "iopub.status.idle": "2025-08-14T06:21:54.458551Z",
     "shell.execute_reply": "2025-08-14T06:21:54.457744Z"
    },
    "papermill": {
     "duration": 0.034396,
     "end_time": "2025-08-14T06:21:54.460067",
     "exception": false,
     "start_time": "2025-08-14T06:21:54.425671",
     "status": "completed"
    },
    "tags": []
   },
   "outputs": [],
   "source": [
    "from langchain_community.tools.sql_database.tool import QuerySQLDatabaseTool\n",
    "def execute_query(state:State)->State:\n",
    "    \"Running the query\"\n",
    "    execute_query_tool = QuerySQLDatabaseTool(db=db)\n",
    "    return {\"query_result\":execute_query_tool.invoke(state[\"query\"])}"
   ]
  },
  {
   "cell_type": "code",
   "execution_count": 15,
   "id": "69fcf64e",
   "metadata": {
    "execution": {
     "iopub.execute_input": "2025-08-14T06:21:54.478700Z",
     "iopub.status.busy": "2025-08-14T06:21:54.478045Z",
     "iopub.status.idle": "2025-08-14T06:21:54.493501Z",
     "shell.execute_reply": "2025-08-14T06:21:54.492719Z"
    },
    "papermill": {
     "duration": 0.026234,
     "end_time": "2025-08-14T06:21:54.494937",
     "exception": false,
     "start_time": "2025-08-14T06:21:54.468703",
     "status": "completed"
    },
    "tags": []
   },
   "outputs": [
    {
     "data": {
      "text/plain": [
       "{'query_result': '[(275,)]'}"
      ]
     },
     "execution_count": 15,
     "metadata": {},
     "output_type": "execute_result"
    }
   ],
   "source": [
    "execute_query({'query': 'SELECT COUNT(DISTINCT ArtistId) FROM Artist'})"
   ]
  },
  {
   "cell_type": "code",
   "execution_count": 16,
   "id": "0db0b2f2",
   "metadata": {
    "execution": {
     "iopub.execute_input": "2025-08-14T06:21:54.513930Z",
     "iopub.status.busy": "2025-08-14T06:21:54.513239Z",
     "iopub.status.idle": "2025-08-14T06:21:54.518129Z",
     "shell.execute_reply": "2025-08-14T06:21:54.517255Z"
    },
    "papermill": {
     "duration": 0.015751,
     "end_time": "2025-08-14T06:21:54.519492",
     "exception": false,
     "start_time": "2025-08-14T06:21:54.503741",
     "status": "completed"
    },
    "tags": []
   },
   "outputs": [],
   "source": [
    "def generate_answer(state:State)->State:\n",
    "    \"\"\"Generate answer based on query and query_result\"\"\"\n",
    "    prompt = (\"Given the following user question, corresponding to a SQL query, \"\n",
    "    \"and SQL query result, answer the user question based on SQL query and SQL query result.\\n\\n\"\n",
    "    f\"Question: {state['question']}\\n\"\n",
    "    f\"SQL Query:{state['query']}\\n\"\n",
    "    f\"SQL Query result: {state['query_result']}\")\n",
    "    result = llm.invoke(prompt)\n",
    "    return {\"result\":result.content}"
   ]
  },
  {
   "cell_type": "code",
   "execution_count": 17,
   "id": "fc324fe7",
   "metadata": {
    "execution": {
     "iopub.execute_input": "2025-08-14T06:21:54.538516Z",
     "iopub.status.busy": "2025-08-14T06:21:54.537706Z",
     "iopub.status.idle": "2025-08-14T06:21:54.545271Z",
     "shell.execute_reply": "2025-08-14T06:21:54.544566Z"
    },
    "papermill": {
     "duration": 0.018123,
     "end_time": "2025-08-14T06:21:54.546444",
     "exception": false,
     "start_time": "2025-08-14T06:21:54.528321",
     "status": "completed"
    },
    "tags": []
   },
   "outputs": [],
   "source": [
    "from langgraph.graph import StateGraph, START\n",
    "graph_builder = StateGraph(State).add_sequence([generate_query,execute_query,generate_answer])\n",
    "graph_builder.add_edge(START,\"generate_query\")\n",
    "graph = graph_builder.compile()"
   ]
  },
  {
   "cell_type": "code",
   "execution_count": 18,
   "id": "e73465f4",
   "metadata": {
    "execution": {
     "iopub.execute_input": "2025-08-14T06:21:54.564782Z",
     "iopub.status.busy": "2025-08-14T06:21:54.564490Z",
     "iopub.status.idle": "2025-08-14T06:21:54.864328Z",
     "shell.execute_reply": "2025-08-14T06:21:54.863417Z"
    },
    "papermill": {
     "duration": 0.310765,
     "end_time": "2025-08-14T06:21:54.865980",
     "exception": false,
     "start_time": "2025-08-14T06:21:54.555215",
     "status": "completed"
    },
    "tags": []
   },
   "outputs": [
    {
     "data": {
      "image/png": "[encoded data removed]",
      "text/plain": [
       "<IPython.core.display.Image object>"
      ]
     },
     "metadata": {},
     "output_type": "display_data"
    }
   ],
   "source": [
    "from IPython.display import Image,display\n",
    "display(Image(graph.get_graph().draw_mermaid_png()))"
   ]
  },
  {
   "cell_type": "code",
   "execution_count": 19,
   "id": "16519f29",
   "metadata": {
    "execution": {
     "iopub.execute_input": "2025-08-14T06:21:54.885403Z",
     "iopub.status.busy": "2025-08-14T06:21:54.885131Z",
     "iopub.status.idle": "2025-08-14T06:21:57.666698Z",
     "shell.execute_reply": "2025-08-14T06:21:57.665725Z"
    },
    "papermill": {
     "duration": 2.792732,
     "end_time": "2025-08-14T06:21:57.668184",
     "exception": false,
     "start_time": "2025-08-14T06:21:54.875452",
     "status": "completed"
    },
    "tags": []
   },
   "outputs": [
    {
     "name": "stdout",
     "output_type": "stream",
     "text": [
      "{'generate_query': {'query': 'SELECT COUNT(DISTINCT ArtistId) AS Count FROM Artist'}}\n",
      "{'execute_query': {'query_result': '[(275,)]'}}\n",
      "{'generate_answer': {'result': 'Based on the SQL query result, the answer to the user question \"how many artists are there\" is:\\n\\n275\\n\\nThe SQL query \"SELECT COUNT(DISTINCT ArtistId) AS Count FROM Artist\" counts the number of unique ArtistId values in the Artist table, which corresponds to the number of artists. The result [(275,)] indicates that there are 275 unique ArtistId values, which means there are 275 artists.'}}\n"
     ]
    }
   ],
   "source": [
    "for step in graph.stream(\n",
    "    {\"question\": \"how many artists are there\"}, stream_mode=\"updates\"\n",
    "):\n",
    "    \n",
    "    print(step)"
   ]
  },
  {
   "cell_type": "markdown",
   "id": "01adbf23",
   "metadata": {
    "papermill": {
     "duration": 0.008853,
     "end_time": "2025-08-14T06:21:57.686087",
     "exception": false,
     "start_time": "2025-08-14T06:21:57.677234",
     "status": "completed"
    },
    "tags": []
   },
   "source": [
    "# Question 4:\n",
    "You are building a text summarization workflow using LangGraph.\n",
    "\n",
    "The steps are:\n",
    "\n",
    "**Input:** Take a paragraph of text from the user.\n",
    "\n",
    "**Prompt:** Format a prompt like:\n",
    "\"Please summarize the following passage:\\n\\n{text}\"\n",
    "\n",
    "**LLM Call:** Use Groq + LLaMA3 to generate the summary.\n",
    "\n",
    "**Output:** Return the final summarized result.\n",
    "\n"
   ]
  },
  {
   "cell_type": "code",
   "execution_count": 20,
   "id": "474691c4",
   "metadata": {
    "execution": {
     "iopub.execute_input": "2025-08-14T06:21:57.705290Z",
     "iopub.status.busy": "2025-08-14T06:21:57.704997Z",
     "iopub.status.idle": "2025-08-14T06:22:00.011367Z",
     "shell.execute_reply": "2025-08-14T06:22:00.010424Z"
    },
    "papermill": {
     "duration": 2.31762,
     "end_time": "2025-08-14T06:22:00.012777",
     "exception": false,
     "start_time": "2025-08-14T06:21:57.695157",
     "status": "completed"
    },
    "tags": []
   },
   "outputs": [
    {
     "name": "stdout",
     "output_type": "stream",
     "text": [
      "Here is a summary of the paragraph in 3 lines:\n",
      "\n",
      "Our solar system consists of the Sun, 8 planets, 5 dwarf planets, and many other celestial bodies. It is located in the Milky Way galaxy, specifically in the Orion Arm, which is a partial arm between the Sagittarius and Perseus arms. Our solar system orbits the center of the galaxy at a speed of 515,000 mph, taking approximately 230 million years to complete one orbit.\n"
     ]
    }
   ],
   "source": [
    "#Using langchain\n",
    "text = \"\"\"Our solar system includes the Sun, eight planets, five officially named dwarf planets, \n",
    "hundreds of moons, and thousands of asteroids and comets.Our solar system is located in the Milky Way, \n",
    "a barred spiral galaxy with two major arms, and two minor arms. Our Sun is in a small, partial arm of the\n",
    "Milky Way called the Orion Arm, or Orion Spur, between the Sagittarius and Perseus arms. Our solar system orbits \n",
    "the center of the galaxy at about 515,000 mph (828,000 kph). It takes about 230 million years to complete one orbit \n",
    "around the galactic center.\"\"\"\n",
    "prompt = PromptTemplate.from_template(\"You will be given a paragraph. You will have to summarize that paragraph in not more than 3 lines. Here is the paragraph:\\n\\n {text}\")\n",
    "formatted_prompt = prompt.format(text=text)\n",
    "result = llm.invoke(formatted_prompt)\n",
    "output = result.content\n",
    "print(output)"
   ]
  },
  {
   "cell_type": "code",
   "execution_count": 21,
   "id": "8cf14c45",
   "metadata": {
    "execution": {
     "iopub.execute_input": "2025-08-14T06:22:00.033218Z",
     "iopub.status.busy": "2025-08-14T06:22:00.032453Z",
     "iopub.status.idle": "2025-08-14T06:22:02.379942Z",
     "shell.execute_reply": "2025-08-14T06:22:02.379098Z"
    },
    "papermill": {
     "duration": 2.359167,
     "end_time": "2025-08-14T06:22:02.381338",
     "exception": false,
     "start_time": "2025-08-14T06:22:00.022171",
     "status": "completed"
    },
    "tags": []
   },
   "outputs": [
    {
     "data": {
      "text/plain": [
       "{'initial_text': 'Our solar system includes the Sun, eight planets, five officially named dwarf planets, \\nhundreds of moons, and thousands of asteroids and comets.Our solar system is located in the Milky Way, \\na barred spiral galaxy with two major arms, and two minor arms. Our Sun is in a small, partial arm of the\\nMilky Way called the Orion Arm, or Orion Spur, between the Sagittarius and Perseus arms. Our solar system orbits \\nthe center of the galaxy at about 515,000 mph (828,000 kph). It takes about 230 million years to complete one orbit \\naround the galactic center.',\n",
       " 'prompt': 'You will be given a paragraph. You will have to summarize that paragraph in not more than 3 lines. Here is the paragraph:\\n\\n Our solar system includes the Sun, eight planets, five officially named dwarf planets, \\nhundreds of moons, and thousands of asteroids and comets.Our solar system is located in the Milky Way, \\na barred spiral galaxy with two major arms, and two minor arms. Our Sun is in a small, partial arm of the\\nMilky Way called the Orion Arm, or Orion Spur, between the Sagittarius and Perseus arms. Our solar system orbits \\nthe center of the galaxy at about 515,000 mph (828,000 kph). It takes about 230 million years to complete one orbit \\naround the galactic center.',\n",
       " 'result': 'Here is a summary of the paragraph in 3 lines:\\n\\nOur solar system consists of the Sun, 8 planets, 5 dwarf planets, hundreds of moons, and thousands of asteroids and comets. It is located in the Milky Way galaxy, a barred spiral galaxy with 2 major arms and 2 minor arms. Our solar system orbits the galaxy at a speed of 515,000 mph, taking approximately 230 million years to complete one orbit.'}"
      ]
     },
     "execution_count": 21,
     "metadata": {},
     "output_type": "execute_result"
    }
   ],
   "source": [
    "#Using langgraph\n",
    "\n",
    "class State(TypedDict):\n",
    "    initial_text: str\n",
    "    prompt: str\n",
    "    result: str\n",
    "\n",
    "\n",
    "text =  \"\"\"Our solar system includes the Sun, eight planets, five officially named dwarf planets, \n",
    "hundreds of moons, and thousands of asteroids and comets.Our solar system is located in the Milky Way, \n",
    "a barred spiral galaxy with two major arms, and two minor arms. Our Sun is in a small, partial arm of the\n",
    "Milky Way called the Orion Arm, or Orion Spur, between the Sagittarius and Perseus arms. Our solar system orbits \n",
    "the center of the galaxy at about 515,000 mph (828,000 kph). It takes about 230 million years to complete one orbit \n",
    "around the galactic center.\"\"\"\n",
    "\n",
    "def define_prompt(state:State):\n",
    "    prompt = PromptTemplate.from_template(\"You will be given a paragraph. You will have to summarize that paragraph in not more than 3 lines. Here is the paragraph:\\n\\n {text}\")\n",
    "    formatted_prompt = prompt.format(text=state['initial_text'])\n",
    "    return {\"prompt\":formatted_prompt}\n",
    "    \n",
    "def summarize(state:State):\n",
    "    answer = llm.invoke(state['prompt'])\n",
    "    return {\"result\":answer.content}\n",
    "\n",
    "\n",
    "from langgraph.graph import StateGraph, START\n",
    "graph_builder = StateGraph(State).add_sequence([define_prompt,summarize])\n",
    "graph_builder.add_edge(START,\"define_prompt\")\n",
    "graph = graph_builder.compile()\n",
    "\n",
    "answer = graph.invoke({\"initial_text\":text})\n",
    "answer"
   ]
  },
  {
   "cell_type": "code",
   "execution_count": 22,
   "id": "8530b2a9",
   "metadata": {
    "execution": {
     "iopub.execute_input": "2025-08-14T06:22:02.401028Z",
     "iopub.status.busy": "2025-08-14T06:22:02.400719Z",
     "iopub.status.idle": "2025-08-14T06:22:02.685371Z",
     "shell.execute_reply": "2025-08-14T06:22:02.684652Z"
    },
    "papermill": {
     "duration": 0.296214,
     "end_time": "2025-08-14T06:22:02.686937",
     "exception": false,
     "start_time": "2025-08-14T06:22:02.390723",
     "status": "completed"
    },
    "tags": []
   },
   "outputs": [
    {
     "data": {
      "image/png": "[encoded data removed]",
      "text/plain": [
       "<IPython.core.display.Image object>"
      ]
     },
     "metadata": {},
     "output_type": "display_data"
    }
   ],
   "source": [
    "from IPython.display import display,Image\n",
    "display(Image(graph.get_graph().draw_mermaid_png()))"
   ]
  },
  {
   "cell_type": "markdown",
   "id": "7f957ef9",
   "metadata": {
    "papermill": {
     "duration": 0.074808,
     "end_time": "2025-08-14T06:22:02.771899",
     "exception": false,
     "start_time": "2025-08-14T06:22:02.697091",
     "status": "completed"
    },
    "tags": []
   },
   "source": [
    "# Question 5:\n",
    "You are given a list of customer complaints. Create a LangGraph that:\n",
    "\n",
    "* Takes a complaint as input.\n",
    "\n",
    "* Generates a prompt asking the model to classify the complaint into one of the categories: \"billing\", \"service\", \"technical\", \"other\".\n",
    "\n",
    "* Invokes a Groq LLM to classify it.\n",
    "\n",
    "* Outputs the predicted category."
   ]
  },
  {
   "cell_type": "code",
   "execution_count": 23,
   "id": "971a4ced",
   "metadata": {
    "execution": {
     "iopub.execute_input": "2025-08-14T06:22:02.792198Z",
     "iopub.status.busy": "2025-08-14T06:22:02.791882Z",
     "iopub.status.idle": "2025-08-14T06:22:04.056298Z",
     "shell.execute_reply": "2025-08-14T06:22:04.055456Z"
    },
    "papermill": {
     "duration": 1.276357,
     "end_time": "2025-08-14T06:22:04.057800",
     "exception": false,
     "start_time": "2025-08-14T06:22:02.781443",
     "status": "completed"
    },
    "tags": []
   },
   "outputs": [
    {
     "data": {
      "text/plain": [
       "{'complaint': 'I was charged twice for my internet service this month, and no one is responding to my support tickets.',\n",
       " 'prompt': \"You are given a complaint. Your task is to classify the complaint into any one these 4 categories: billing, service, technical, or other.Always pick one category that matches most with the issue mentioned in complaint. If you are unsure say I don't know.\\n\\nI was charged twice for my internet service this month, and no one is responding to my support tickets.\",\n",
       " 'output': 'I would classify this complaint as \"billing\". The issue mentioned is related to being charged twice, which is a billing-related issue.'}"
      ]
     },
     "execution_count": 23,
     "metadata": {},
     "output_type": "execute_result"
    }
   ],
   "source": [
    "from typing_extensions import TypedDict\n",
    "from langchain_core.prompts import PromptTemplate\n",
    "from langgraph.graph import StateGraph, START\n",
    "\n",
    "# Step1:\n",
    "class State(TypedDict):\n",
    "    complaint: str\n",
    "    prompt: str\n",
    "    output: str\n",
    "\n",
    "# Step2:\n",
    "def define_prompt(state: State)-> State:\n",
    "    \"\"\"Define the prompt\"\"\"\n",
    "    prompt = PromptTemplate(\n",
    "    input_variables = ['text'],\n",
    "    template = \"You are given a complaint. Your task is to classify the complaint into any one these 4 categories: billing, service, technical, or other.\"\n",
    "    \"Always pick one category that matches most with the issue mentioned in complaint. If you are unsure say I don't know.\\n\\n{text}\"\n",
    "    )\n",
    "        \n",
    "    formatted_input = prompt.format(text = state['complaint'])\n",
    "    return {\"prompt\":formatted_input}\n",
    "\n",
    "# Step3:\n",
    "def generate_answer(state: State)->State:\n",
    "    \"\"\"Generates the output\"\"\"\n",
    "    response = llm.invoke(state['prompt'])\n",
    "    return {\"output\":response.content}\n",
    "\n",
    "# Step4:\n",
    "graph_builder = StateGraph(State).add_sequence([define_prompt,generate_answer])\n",
    "graph_builder.add_edge(START,\"define_prompt\")\n",
    "graph = graph_builder.compile() \n",
    "\n",
    "input_complaint = \"I was charged twice for my internet service this month, and no one is responding to my support tickets.\"\n",
    "\n",
    "graph.invoke({\"complaint\":input_complaint})"
   ]
  },
  {
   "cell_type": "code",
   "execution_count": 24,
   "id": "09684682",
   "metadata": {
    "execution": {
     "iopub.execute_input": "2025-08-14T06:22:04.078235Z",
     "iopub.status.busy": "2025-08-14T06:22:04.077899Z",
     "iopub.status.idle": "2025-08-14T06:22:04.355954Z",
     "shell.execute_reply": "2025-08-14T06:22:04.355146Z"
    },
    "papermill": {
     "duration": 0.290012,
     "end_time": "2025-08-14T06:22:04.357479",
     "exception": false,
     "start_time": "2025-08-14T06:22:04.067467",
     "status": "completed"
    },
    "tags": []
   },
   "outputs": [
    {
     "data": {
      "image/png": "[encoded data removed]",
      "text/plain": [
       "<IPython.core.display.Image object>"
      ]
     },
     "metadata": {},
     "output_type": "display_data"
    }
   ],
   "source": [
    "from IPython.display import display,Image\n",
    "display(Image(graph.get_graph().draw_mermaid_png()))"
   ]
  },
  {
   "cell_type": "markdown",
   "id": "9173ec76",
   "metadata": {
    "papermill": {
     "duration": 0.009769,
     "end_time": "2025-08-14T06:22:04.377524",
     "exception": false,
     "start_time": "2025-08-14T06:22:04.367755",
     "status": "completed"
    },
    "tags": []
   },
   "source": [
    "# Question 6\n",
    "You’re building a LangGraph application that takes a user’s query and decides whether it requires a web search or can be answered directly by the LLM. If it requires a web search, it should use a mock search tool (fake_search_tool) to get results and then summarize them.\n",
    "\n",
    "Write a LangGraph with this logic:\n",
    "\n",
    "* Takes a user question as input.\n",
    "\n",
    "* Uses a node to decide if search is needed (keywords like \"latest\", \"current\", \"today\", etc.).\n",
    "\n",
    "* If search is needed → use the fake_search_tool.\n",
    "\n",
    "* Then pass the search results to the LLM to summarize.\n",
    "\n",
    "* If search is not needed → directly ask the LLM to answer.\n",
    "\n",
    "You can mock the fake_search_tool as a function that returns a static paragraph."
   ]
  },
  {
   "cell_type": "markdown",
   "id": "ec33b41f",
   "metadata": {
    "papermill": {
     "duration": 0.009535,
     "end_time": "2025-08-14T06:22:04.396851",
     "exception": false,
     "start_time": "2025-08-14T06:22:04.387316",
     "status": "completed"
    },
    "tags": []
   },
   "source": [
    "Function calling or tool calling is similar in nature. It has the following parts:\n",
    "* **1.Tool Creation:** Use @tool decorator for creating the tool.\n",
    "* **2.Tool Binding:** Binding the tool to the model.\n",
    "* **3.Tool Calling and Execution:** Model can itself detemine when to call the tool but there are also cases when we can force the tool calling."
   ]
  },
  {
   "cell_type": "code",
   "execution_count": 25,
   "id": "481478ae",
   "metadata": {
    "execution": {
     "iopub.execute_input": "2025-08-14T06:22:04.417606Z",
     "iopub.status.busy": "2025-08-14T06:22:04.417287Z",
     "iopub.status.idle": "2025-08-14T06:22:04.548437Z",
     "shell.execute_reply": "2025-08-14T06:22:04.547597Z"
    },
    "papermill": {
     "duration": 0.143532,
     "end_time": "2025-08-14T06:22:04.550099",
     "exception": false,
     "start_time": "2025-08-14T06:22:04.406567",
     "status": "completed"
    },
    "tags": []
   },
   "outputs": [],
   "source": [
    "from langchain_core.prompts import PromptTemplate\n",
    "from langgraph.graph import START, StateGraph\n",
    "from typing import TypedDict\n",
    "from langchain_core.tools import tool\n",
    "\n",
    "@tool\n",
    "def fake_search_tool(query:str) -> str:\n",
    "    \"\"\"Function for tool\"\"\"\n",
    "    return (\"You are in tool's function.\"\n",
    "            \"You successfully used the tool.\")\n",
    "\n",
    "llm = init_chat_model(model = \"llama3-8b-8192\",model_provider=\"groq\")\n",
    "\n",
    "\n",
    "class State(TypedDict):\n",
    "    question: str\n",
    "    prompt: str\n",
    "    result: str\n",
    "\n",
    "def define_prompt(state: State) -> State:\n",
    "    prompt = PromptTemplate(input_variables = ['ques'],\n",
    "                  template= \"Respond to the following sentence as per the tone of the sentence. Keep your output within 2 lines.:\\n\\n{ques}\")\n",
    "    \n",
    "    formatted_prompt = prompt.format(ques = state['question'])\n",
    "    return {\"prompt\":formatted_prompt}\n",
    "    \n",
    "def pick_tool_use(state: State) -> State:\n",
    "    \"\"\"Decides when to use tool.\"\"\"\n",
    "    keywords = [\"latest\", \"current\", \"today\"]\n",
    "    if any(word in state['question'].lower() for word in keywords):\n",
    "        returned_str = fake_search_tool(state['question'])\n",
    "        new_prompt = f\"Do not do anything just output the next sentence.\\n\\n{returned_str}\"\n",
    "        return {\"prompt\":new_prompt}\n",
    "    else:\n",
    "        return {\"prompt\":state['prompt']}\n",
    "\n",
    "def result(state:State) -> State:\n",
    "    \"\"\"Generate answer\"\"\"\n",
    "    answer = llm.invoke(state['prompt'])\n",
    "    return {\"result\": answer.content}\n",
    "\n",
    "graph_builder = StateGraph(State).add_sequence([define_prompt,pick_tool_use,result])\n",
    "graph_builder.add_edge(START,\"define_prompt\")\n",
    "graph = graph_builder.compile()"
   ]
  },
  {
   "cell_type": "code",
   "execution_count": 26,
   "id": "6bc11e22",
   "metadata": {
    "execution": {
     "iopub.execute_input": "2025-08-14T06:22:04.571337Z",
     "iopub.status.busy": "2025-08-14T06:22:04.571029Z",
     "iopub.status.idle": "2025-08-14T06:22:04.826604Z",
     "shell.execute_reply": "2025-08-14T06:22:04.825616Z"
    },
    "papermill": {
     "duration": 0.268229,
     "end_time": "2025-08-14T06:22:04.828348",
     "exception": false,
     "start_time": "2025-08-14T06:22:04.560119",
     "status": "completed"
    },
    "tags": []
   },
   "outputs": [
    {
     "name": "stderr",
     "output_type": "stream",
     "text": [
      "/tmp/ipykernel_13/245910582.py:31: LangChainDeprecationWarning: The method `BaseTool.__call__` was deprecated in langchain-core 0.1.47 and will be removed in 1.0. Use :meth:`~invoke` instead.\n",
      "  returned_str = fake_search_tool(state['question'])\n"
     ]
    },
    {
     "name": "stdout",
     "output_type": "stream",
     "text": [
      "{'question': 'Hi there, latest news please', 'prompt': \"Do not do anything just output the next sentence.\\n\\nYou are in tool's function.You successfully used the tool.\", 'result': 'You feel a sense of accomplishment and satisfaction with the task you just completed.'}\n"
     ]
    }
   ],
   "source": [
    "ques = \"Hi there, latest news please\"\n",
    "output = graph.invoke({\"question\":ques})\n",
    "print(output)\n",
    "\n"
   ]
  },
  {
   "cell_type": "code",
   "execution_count": null,
   "id": "62e947a6",
   "metadata": {
    "papermill": {
     "duration": 0.009742,
     "end_time": "2025-08-14T06:22:04.848249",
     "exception": false,
     "start_time": "2025-08-14T06:22:04.838507",
     "status": "completed"
    },
    "tags": []
   },
   "outputs": [],
   "source": []
  }
 ],
 "metadata": {
  "kaggle": {
   "accelerator": "none",
   "dataSources": [
    {
     "datasetId": 3970738,
     "sourceId": 6914376,
     "sourceType": "datasetVersion"
    }
   ],
   "dockerImageVersionId": 31089,
   "isGpuEnabled": false,
   "isInternetEnabled": true,
   "language": "python",
   "sourceType": "notebook"
  },
  "kernelspec": {
   "display_name": "Python 3",
   "language": "python",
   "name": "python3"
  },
  "language_info": {
   "codemirror_mode": {
    "name": "ipython",
    "version": 3
   },
   "file_extension": ".py",
   "mimetype": "text/x-python",
   "name": "python",
   "nbconvert_exporter": "python",
   "pygments_lexer": "ipython3",
   "version": "3.11.13"
  },
  "papermill": {
   "default_parameters": {},
   "duration": 32.405584,
   "end_time": "2025-08-14T06:22:05.577750",
   "environment_variables": {},
   "exception": null,
   "input_path": "__notebook__.ipynb",
   "output_path": "__notebook__.ipynb",
   "parameters": {},
   "start_time": "2025-08-14T06:21:33.172166",
   "version": "2.6.0"
  }
 },
 "nbformat": 4,
 "nbformat_minor": 5
}
