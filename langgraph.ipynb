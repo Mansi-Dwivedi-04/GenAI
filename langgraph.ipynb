{
 "cells": [
  {
   "cell_type": "markdown",
   "id": "961868d0",
   "metadata": {
    "papermill": {
     "duration": 0.006667,
     "end_time": "2025-08-01T17:33:42.497076",
     "exception": false,
     "start_time": "2025-08-01T17:33:42.490409",
     "status": "completed"
    },
    "tags": []
   },
   "source": [
    "## This notebook has 5 coding questions based on langgraph."
   ]
  },
  {
   "cell_type": "code",
   "execution_count": 1,
   "id": "5e9d5059",
   "metadata": {
    "execution": {
     "iopub.execute_input": "2025-08-01T17:33:42.510554Z",
     "iopub.status.busy": "2025-08-01T17:33:42.510161Z",
     "iopub.status.idle": "2025-08-01T17:33:42.606642Z",
     "shell.execute_reply": "2025-08-01T17:33:42.605625Z"
    },
    "papermill": {
     "duration": 0.104671,
     "end_time": "2025-08-01T17:33:42.608481",
     "exception": false,
     "start_time": "2025-08-01T17:33:42.503810",
     "status": "completed"
    },
    "tags": []
   },
   "outputs": [],
   "source": [
    "from kaggle_secrets import UserSecretsClient\n",
    "user_secrets = UserSecretsClient()\n",
    "secret_value_0 = user_secrets.get_secret(\"groq_key\")\n"
   ]
  },
  {
   "cell_type": "code",
   "execution_count": 2,
   "id": "6e19f709",
   "metadata": {
    "execution": {
     "iopub.execute_input": "2025-08-01T17:33:42.619376Z",
     "iopub.status.busy": "2025-08-01T17:33:42.619103Z",
     "iopub.status.idle": "2025-08-01T17:33:55.210016Z",
     "shell.execute_reply": "2025-08-01T17:33:55.208390Z"
    },
    "papermill": {
     "duration": 12.598398,
     "end_time": "2025-08-01T17:33:55.211909",
     "exception": false,
     "start_time": "2025-08-01T17:33:42.613511",
     "status": "completed"
    },
    "tags": []
   },
   "outputs": [
    {
     "name": "stdout",
     "output_type": "stream",
     "text": [
      "Requirement already satisfied: langchain in /usr/local/lib/python3.11/dist-packages (0.3.26)\r\n",
      "Collecting langgraph\r\n",
      "  Downloading langgraph-0.6.2-py3-none-any.whl.metadata (6.8 kB)\r\n",
      "Collecting langchain-groq\r\n",
      "  Downloading langchain_groq-0.3.6-py3-none-any.whl.metadata (2.6 kB)\r\n",
      "Collecting langchain_community\r\n",
      "  Downloading langchain_community-0.3.27-py3-none-any.whl.metadata (2.9 kB)\r\n",
      "Requirement already satisfied: langchain-core<1.0.0,>=0.3.66 in /usr/local/lib/python3.11/dist-packages (from langchain) (0.3.66)\r\n",
      "Requirement already satisfied: langchain-text-splitters<1.0.0,>=0.3.8 in /usr/local/lib/python3.11/dist-packages (from langchain) (0.3.8)\r\n",
      "Requirement already satisfied: langsmith>=0.1.17 in /usr/local/lib/python3.11/dist-packages (from langchain) (0.4.1)\r\n",
      "Requirement already satisfied: pydantic<3.0.0,>=2.7.4 in /usr/local/lib/python3.11/dist-packages (from langchain) (2.11.7)\r\n",
      "Requirement already satisfied: SQLAlchemy<3,>=1.4 in /usr/local/lib/python3.11/dist-packages (from langchain) (2.0.41)\r\n",
      "Requirement already satisfied: requests<3,>=2 in /usr/local/lib/python3.11/dist-packages (from langchain) (2.32.4)\r\n",
      "Requirement already satisfied: PyYAML>=5.3 in /usr/local/lib/python3.11/dist-packages (from langchain) (6.0.2)\r\n",
      "Collecting langgraph-checkpoint<3.0.0,>=2.1.0 (from langgraph)\r\n",
      "  Downloading langgraph_checkpoint-2.1.1-py3-none-any.whl.metadata (4.2 kB)\r\n",
      "Collecting langgraph-prebuilt<0.7.0,>=0.6.0 (from langgraph)\r\n",
      "  Downloading langgraph_prebuilt-0.6.2-py3-none-any.whl.metadata (4.5 kB)\r\n",
      "Collecting langgraph-sdk<0.3.0,>=0.2.0 (from langgraph)\r\n",
      "  Downloading langgraph_sdk-0.2.0-py3-none-any.whl.metadata (1.5 kB)\r\n",
      "Requirement already satisfied: xxhash>=3.5.0 in /usr/local/lib/python3.11/dist-packages (from langgraph) (3.5.0)\r\n",
      "Collecting langchain-core<1.0.0,>=0.3.66 (from langchain)\r\n",
      "  Downloading langchain_core-0.3.72-py3-none-any.whl.metadata (5.8 kB)\r\n",
      "Collecting groq<1,>=0.29.0 (from langchain-groq)\r\n",
      "  Downloading groq-0.30.0-py3-none-any.whl.metadata (16 kB)\r\n",
      "Requirement already satisfied: aiohttp<4.0.0,>=3.8.3 in /usr/local/lib/python3.11/dist-packages (from langchain_community) (3.12.13)\r\n",
      "Requirement already satisfied: tenacity!=8.4.0,<10,>=8.1.0 in /usr/local/lib/python3.11/dist-packages (from langchain_community) (8.5.0)\r\n",
      "Requirement already satisfied: dataclasses-json<0.7,>=0.5.7 in /usr/local/lib/python3.11/dist-packages (from langchain_community) (0.6.7)\r\n",
      "Collecting pydantic-settings<3.0.0,>=2.4.0 (from langchain_community)\r\n",
      "  Downloading pydantic_settings-2.10.1-py3-none-any.whl.metadata (3.4 kB)\r\n",
      "Collecting httpx-sse<1.0.0,>=0.4.0 (from langchain_community)\r\n",
      "  Downloading httpx_sse-0.4.1-py3-none-any.whl.metadata (9.4 kB)\r\n",
      "Requirement already satisfied: numpy>=1.26.2 in /usr/local/lib/python3.11/dist-packages (from langchain_community) (1.26.4)\r\n",
      "Requirement already satisfied: aiohappyeyeballs>=2.5.0 in /usr/local/lib/python3.11/dist-packages (from aiohttp<4.0.0,>=3.8.3->langchain_community) (2.6.1)\r\n",
      "Requirement already satisfied: aiosignal>=1.1.2 in /usr/local/lib/python3.11/dist-packages (from aiohttp<4.0.0,>=3.8.3->langchain_community) (1.3.2)\r\n",
      "Requirement already satisfied: attrs>=17.3.0 in /usr/local/lib/python3.11/dist-packages (from aiohttp<4.0.0,>=3.8.3->langchain_community) (25.3.0)\r\n",
      "Requirement already satisfied: frozenlist>=1.1.1 in /usr/local/lib/python3.11/dist-packages (from aiohttp<4.0.0,>=3.8.3->langchain_community) (1.7.0)\r\n",
      "Requirement already satisfied: multidict<7.0,>=4.5 in /usr/local/lib/python3.11/dist-packages (from aiohttp<4.0.0,>=3.8.3->langchain_community) (6.6.3)\r\n",
      "Requirement already satisfied: propcache>=0.2.0 in /usr/local/lib/python3.11/dist-packages (from aiohttp<4.0.0,>=3.8.3->langchain_community) (0.3.2)\r\n",
      "Requirement already satisfied: yarl<2.0,>=1.17.0 in /usr/local/lib/python3.11/dist-packages (from aiohttp<4.0.0,>=3.8.3->langchain_community) (1.20.1)\r\n",
      "Requirement already satisfied: marshmallow<4.0.0,>=3.18.0 in /usr/local/lib/python3.11/dist-packages (from dataclasses-json<0.7,>=0.5.7->langchain_community) (3.26.1)\r\n",
      "Requirement already satisfied: typing-inspect<1,>=0.4.0 in /usr/local/lib/python3.11/dist-packages (from dataclasses-json<0.7,>=0.5.7->langchain_community) (0.9.0)\r\n",
      "Requirement already satisfied: anyio<5,>=3.5.0 in /usr/local/lib/python3.11/dist-packages (from groq<1,>=0.29.0->langchain-groq) (4.9.0)\r\n",
      "Requirement already satisfied: distro<2,>=1.7.0 in /usr/local/lib/python3.11/dist-packages (from groq<1,>=0.29.0->langchain-groq) (1.9.0)\r\n",
      "Requirement already satisfied: httpx<1,>=0.23.0 in /usr/local/lib/python3.11/dist-packages (from groq<1,>=0.29.0->langchain-groq) (0.28.1)\r\n",
      "Requirement already satisfied: sniffio in /usr/local/lib/python3.11/dist-packages (from groq<1,>=0.29.0->langchain-groq) (1.3.1)\r\n",
      "Requirement already satisfied: typing-extensions<5,>=4.10 in /usr/local/lib/python3.11/dist-packages (from groq<1,>=0.29.0->langchain-groq) (4.14.0)\r\n",
      "Requirement already satisfied: jsonpatch<2.0,>=1.33 in /usr/local/lib/python3.11/dist-packages (from langchain-core<1.0.0,>=0.3.66->langchain) (1.33)\r\n",
      "Requirement already satisfied: packaging>=23.2 in /usr/local/lib/python3.11/dist-packages (from langchain-core<1.0.0,>=0.3.66->langchain) (25.0)\r\n",
      "Collecting ormsgpack>=1.10.0 (from langgraph-checkpoint<3.0.0,>=2.1.0->langgraph)\r\n",
      "  Downloading ormsgpack-1.10.0-cp311-cp311-manylinux_2_17_x86_64.manylinux2014_x86_64.whl.metadata (43 kB)\r\n",
      "\u001b[2K     \u001b[90m━━━━━━━━━━━━━━━━━━━━━━━━━━━━━━━━━━━━━━━━\u001b[0m \u001b[32m43.7/43.7 kB\u001b[0m \u001b[31m1.3 MB/s\u001b[0m eta \u001b[36m0:00:00\u001b[0m\r\n",
      "\u001b[?25hRequirement already satisfied: orjson>=3.10.1 in /usr/local/lib/python3.11/dist-packages (from langgraph-sdk<0.3.0,>=0.2.0->langgraph) (3.10.18)\r\n",
      "Requirement already satisfied: requests-toolbelt<2.0.0,>=1.0.0 in /usr/local/lib/python3.11/dist-packages (from langsmith>=0.1.17->langchain) (1.0.0)\r\n",
      "Requirement already satisfied: zstandard<0.24.0,>=0.23.0 in /usr/local/lib/python3.11/dist-packages (from langsmith>=0.1.17->langchain) (0.23.0)\r\n",
      "Requirement already satisfied: mkl_fft in /usr/local/lib/python3.11/dist-packages (from numpy>=1.26.2->langchain_community) (1.3.8)\r\n",
      "Requirement already satisfied: mkl_random in /usr/local/lib/python3.11/dist-packages (from numpy>=1.26.2->langchain_community) (1.2.4)\r\n",
      "Requirement already satisfied: mkl_umath in /usr/local/lib/python3.11/dist-packages (from numpy>=1.26.2->langchain_community) (0.1.1)\r\n",
      "Requirement already satisfied: mkl in /usr/local/lib/python3.11/dist-packages (from numpy>=1.26.2->langchain_community) (2025.2.0)\r\n",
      "Requirement already satisfied: tbb4py in /usr/local/lib/python3.11/dist-packages (from numpy>=1.26.2->langchain_community) (2022.2.0)\r\n",
      "Requirement already satisfied: mkl-service in /usr/local/lib/python3.11/dist-packages (from numpy>=1.26.2->langchain_community) (2.4.1)\r\n",
      "Requirement already satisfied: annotated-types>=0.6.0 in /usr/local/lib/python3.11/dist-packages (from pydantic<3.0.0,>=2.7.4->langchain) (0.7.0)\r\n",
      "Requirement already satisfied: pydantic-core==2.33.2 in /usr/local/lib/python3.11/dist-packages (from pydantic<3.0.0,>=2.7.4->langchain) (2.33.2)\r\n",
      "Requirement already satisfied: typing-inspection>=0.4.0 in /usr/local/lib/python3.11/dist-packages (from pydantic<3.0.0,>=2.7.4->langchain) (0.4.1)\r\n",
      "Collecting python-dotenv>=0.21.0 (from pydantic-settings<3.0.0,>=2.4.0->langchain_community)\r\n",
      "  Downloading python_dotenv-1.1.1-py3-none-any.whl.metadata (24 kB)\r\n",
      "Requirement already satisfied: charset_normalizer<4,>=2 in /usr/local/lib/python3.11/dist-packages (from requests<3,>=2->langchain) (3.4.2)\r\n",
      "Requirement already satisfied: idna<4,>=2.5 in /usr/local/lib/python3.11/dist-packages (from requests<3,>=2->langchain) (3.10)\r\n",
      "Requirement already satisfied: urllib3<3,>=1.21.1 in /usr/local/lib/python3.11/dist-packages (from requests<3,>=2->langchain) (2.5.0)\r\n",
      "Requirement already satisfied: certifi>=2017.4.17 in /usr/local/lib/python3.11/dist-packages (from requests<3,>=2->langchain) (2025.6.15)\r\n",
      "Requirement already satisfied: greenlet>=1 in /usr/local/lib/python3.11/dist-packages (from SQLAlchemy<3,>=1.4->langchain) (3.2.3)\r\n",
      "Requirement already satisfied: httpcore==1.* in /usr/local/lib/python3.11/dist-packages (from httpx<1,>=0.23.0->groq<1,>=0.29.0->langchain-groq) (1.0.9)\r\n",
      "Requirement already satisfied: h11>=0.16 in /usr/local/lib/python3.11/dist-packages (from httpcore==1.*->httpx<1,>=0.23.0->groq<1,>=0.29.0->langchain-groq) (0.16.0)\r\n",
      "Requirement already satisfied: jsonpointer>=1.9 in /usr/local/lib/python3.11/dist-packages (from jsonpatch<2.0,>=1.33->langchain-core<1.0.0,>=0.3.66->langchain) (3.0.0)\r\n",
      "Requirement already satisfied: mypy-extensions>=0.3.0 in /usr/local/lib/python3.11/dist-packages (from typing-inspect<1,>=0.4.0->dataclasses-json<0.7,>=0.5.7->langchain_community) (1.1.0)\r\n",
      "Requirement already satisfied: intel-openmp<2026,>=2024 in /usr/local/lib/python3.11/dist-packages (from mkl->numpy>=1.26.2->langchain_community) (2024.2.0)\r\n",
      "Requirement already satisfied: tbb==2022.* in /usr/local/lib/python3.11/dist-packages (from mkl->numpy>=1.26.2->langchain_community) (2022.2.0)\r\n",
      "Requirement already satisfied: tcmlib==1.* in /usr/local/lib/python3.11/dist-packages (from tbb==2022.*->mkl->numpy>=1.26.2->langchain_community) (1.4.0)\r\n",
      "Requirement already satisfied: intel-cmplr-lib-rt in /usr/local/lib/python3.11/dist-packages (from mkl_umath->numpy>=1.26.2->langchain_community) (2024.2.0)\r\n",
      "Requirement already satisfied: intel-cmplr-lib-ur==2024.2.0 in /usr/local/lib/python3.11/dist-packages (from intel-openmp<2026,>=2024->mkl->numpy>=1.26.2->langchain_community) (2024.2.0)\r\n",
      "Downloading langgraph-0.6.2-py3-none-any.whl (152 kB)\r\n",
      "\u001b[2K   \u001b[90m━━━━━━━━━━━━━━━━━━━━━━━━━━━━━━━━━━━━━━━━\u001b[0m \u001b[32m152.2/152.2 kB\u001b[0m \u001b[31m4.8 MB/s\u001b[0m eta \u001b[36m0:00:00\u001b[0m\r\n",
      "\u001b[?25hDownloading langchain_groq-0.3.6-py3-none-any.whl (16 kB)\r\n",
      "Downloading langchain_community-0.3.27-py3-none-any.whl (2.5 MB)\r\n",
      "\u001b[2K   \u001b[90m━━━━━━━━━━━━━━━━━━━━━━━━━━━━━━━━━━━━━━━━\u001b[0m \u001b[32m2.5/2.5 MB\u001b[0m \u001b[31m33.0 MB/s\u001b[0m eta \u001b[36m0:00:00\u001b[0m\r\n",
      "\u001b[?25hDownloading groq-0.30.0-py3-none-any.whl (131 kB)\r\n",
      "\u001b[2K   \u001b[90m━━━━━━━━━━━━━━━━━━━━━━━━━━━━━━━━━━━━━━━━\u001b[0m \u001b[32m131.1/131.1 kB\u001b[0m \u001b[31m6.8 MB/s\u001b[0m eta \u001b[36m0:00:00\u001b[0m\r\n",
      "\u001b[?25hDownloading httpx_sse-0.4.1-py3-none-any.whl (8.1 kB)\r\n",
      "Downloading langchain_core-0.3.72-py3-none-any.whl (442 kB)\r\n",
      "\u001b[2K   \u001b[90m━━━━━━━━━━━━━━━━━━━━━━━━━━━━━━━━━━━━━━━━\u001b[0m \u001b[32m442.8/442.8 kB\u001b[0m \u001b[31m17.7 MB/s\u001b[0m eta \u001b[36m0:00:00\u001b[0m\r\n",
      "\u001b[?25hDownloading langgraph_checkpoint-2.1.1-py3-none-any.whl (43 kB)\r\n",
      "\u001b[2K   \u001b[90m━━━━━━━━━━━━━━━━━━━━━━━━━━━━━━━━━━━━━━━━\u001b[0m \u001b[32m43.9/43.9 kB\u001b[0m \u001b[31m1.7 MB/s\u001b[0m eta \u001b[36m0:00:00\u001b[0m\r\n",
      "\u001b[?25hDownloading langgraph_prebuilt-0.6.2-py3-none-any.whl (28 kB)\r\n",
      "Downloading langgraph_sdk-0.2.0-py3-none-any.whl (50 kB)\r\n",
      "\u001b[2K   \u001b[90m━━━━━━━━━━━━━━━━━━━━━━━━━━━━━━━━━━━━━━━━\u001b[0m \u001b[32m50.6/50.6 kB\u001b[0m \u001b[31m2.2 MB/s\u001b[0m eta \u001b[36m0:00:00\u001b[0m\r\n",
      "\u001b[?25hDownloading pydantic_settings-2.10.1-py3-none-any.whl (45 kB)\r\n",
      "\u001b[2K   \u001b[90m━━━━━━━━━━━━━━━━━━━━━━━━━━━━━━━━━━━━━━━━\u001b[0m \u001b[32m45.2/45.2 kB\u001b[0m \u001b[31m1.6 MB/s\u001b[0m eta \u001b[36m0:00:00\u001b[0m\r\n",
      "\u001b[?25hDownloading ormsgpack-1.10.0-cp311-cp311-manylinux_2_17_x86_64.manylinux2014_x86_64.whl (216 kB)\r\n",
      "\u001b[2K   \u001b[90m━━━━━━━━━━━━━━━━━━━━━━━━━━━━━━━━━━━━━━━━\u001b[0m \u001b[32m216.5/216.5 kB\u001b[0m \u001b[31m9.1 MB/s\u001b[0m eta \u001b[36m0:00:00\u001b[0m\r\n",
      "\u001b[?25hDownloading python_dotenv-1.1.1-py3-none-any.whl (20 kB)\r\n",
      "Installing collected packages: python-dotenv, ormsgpack, httpx-sse, pydantic-settings, langgraph-sdk, groq, langchain-core, langgraph-checkpoint, langchain-groq, langgraph-prebuilt, langgraph, langchain_community\r\n",
      "  Attempting uninstall: langchain-core\r\n",
      "    Found existing installation: langchain-core 0.3.66\r\n",
      "    Uninstalling langchain-core-0.3.66:\r\n",
      "      Successfully uninstalled langchain-core-0.3.66\r\n",
      "Successfully installed groq-0.30.0 httpx-sse-0.4.1 langchain-core-0.3.72 langchain-groq-0.3.6 langchain_community-0.3.27 langgraph-0.6.2 langgraph-checkpoint-2.1.1 langgraph-prebuilt-0.6.2 langgraph-sdk-0.2.0 ormsgpack-1.10.0 pydantic-settings-2.10.1 python-dotenv-1.1.1\r\n"
     ]
    }
   ],
   "source": [
    "! pip install langchain langgraph langchain-groq langchain_community"
   ]
  },
  {
   "cell_type": "code",
   "execution_count": 3,
   "id": "2e9b2770",
   "metadata": {
    "execution": {
     "iopub.execute_input": "2025-08-01T17:33:55.227936Z",
     "iopub.status.busy": "2025-08-01T17:33:55.227563Z",
     "iopub.status.idle": "2025-08-01T17:33:57.419162Z",
     "shell.execute_reply": "2025-08-01T17:33:57.418163Z"
    },
    "papermill": {
     "duration": 2.201321,
     "end_time": "2025-08-01T17:33:57.420780",
     "exception": false,
     "start_time": "2025-08-01T17:33:55.219459",
     "status": "completed"
    },
    "tags": []
   },
   "outputs": [],
   "source": [
    "import os\n",
    "if not os.environ.get(\"GROQ_API_KEY\"):\n",
    "    os.environ[\"GROQ_API_KEY\"] = secret_value_0\n",
    "\n",
    "from langchain.chat_models import init_chat_model\n",
    "llm = init_chat_model(model = \"llama3-8b-8192\", model_provider=\"groq\")"
   ]
  },
  {
   "cell_type": "markdown",
   "id": "69be0037",
   "metadata": {
    "papermill": {
     "duration": 0.006539,
     "end_time": "2025-08-01T17:33:57.434116",
     "exception": false,
     "start_time": "2025-08-01T17:33:57.427577",
     "status": "completed"
    },
    "tags": []
   },
   "source": [
    "## Question 1: \n",
    "Write a simple LangGraph with two nodes:\n",
    "\n",
    "* A user_input node that accepts a string.\n",
    "\n",
    "* A llm_response node that uses Groq to generate a response based on the input.\n",
    "\n",
    "The flow should:\n",
    "\n",
    "* Start from user_input → go to llm_response → and return the final result.\n",
    "\n",
    "📌 Constraints:\n",
    "\n",
    "* Input should be \"Tell me a joke\"."
   ]
  },
  {
   "cell_type": "code",
   "execution_count": 4,
   "id": "2a8afece",
   "metadata": {
    "execution": {
     "iopub.execute_input": "2025-08-01T17:33:57.450269Z",
     "iopub.status.busy": "2025-08-01T17:33:57.449808Z",
     "iopub.status.idle": "2025-08-01T17:33:57.491261Z",
     "shell.execute_reply": "2025-08-01T17:33:57.490252Z"
    },
    "papermill": {
     "duration": 0.052354,
     "end_time": "2025-08-01T17:33:57.493266",
     "exception": false,
     "start_time": "2025-08-01T17:33:57.440912",
     "status": "completed"
    },
    "tags": []
   },
   "outputs": [],
   "source": [
    "from langchain_core.prompts import PromptTemplate\n",
    "prompt = PromptTemplate(\n",
    "    input_variables = ['input'],\n",
    "    template = \"Reply to this query.\\n\\n{input}\"\n",
    ")"
   ]
  },
  {
   "cell_type": "code",
   "execution_count": 5,
   "id": "73914bc1",
   "metadata": {
    "execution": {
     "iopub.execute_input": "2025-08-01T17:33:57.508523Z",
     "iopub.status.busy": "2025-08-01T17:33:57.508194Z",
     "iopub.status.idle": "2025-08-01T17:33:57.582014Z",
     "shell.execute_reply": "2025-08-01T17:33:57.580727Z"
    },
    "papermill": {
     "duration": 0.0842,
     "end_time": "2025-08-01T17:33:57.584545",
     "exception": false,
     "start_time": "2025-08-01T17:33:57.500345",
     "status": "completed"
    },
    "tags": []
   },
   "outputs": [],
   "source": [
    "from typing_extensions import TypedDict\n",
    "from langgraph.graph import START,StateGraph\n",
    "class State(TypedDict):\n",
    "    question: str\n",
    "    result: str\n",
    "\n",
    "\n",
    "def user_input(state:State):\n",
    "    \"\"\"Takes user input\"\"\"\n",
    "    input_str = \"Tell me a joke\"\n",
    "    user_prompt = prompt.format(input=input_str)\n",
    "    return {\"question\":user_prompt}\n",
    "\n",
    "def llm_response(state:State):\n",
    "    \"\"\"LLM responding to the question\"\"\"\n",
    "    response = llm.invoke(state['question'])\n",
    "    return {\"result\":response.content}\n",
    "\n",
    "graph_builder = StateGraph(State).add_sequence([user_input,llm_response])\n",
    "graph_builder.add_edge(START,\"user_input\")\n",
    "graph = graph_builder.compile()"
   ]
  },
  {
   "cell_type": "code",
   "execution_count": 6,
   "id": "782eaa6f",
   "metadata": {
    "execution": {
     "iopub.execute_input": "2025-08-01T17:33:57.601850Z",
     "iopub.status.busy": "2025-08-01T17:33:57.601459Z",
     "iopub.status.idle": "2025-08-01T17:33:57.799442Z",
     "shell.execute_reply": "2025-08-01T17:33:57.798403Z"
    },
    "papermill": {
     "duration": 0.208053,
     "end_time": "2025-08-01T17:33:57.801025",
     "exception": false,
     "start_time": "2025-08-01T17:33:57.592972",
     "status": "completed"
    },
    "tags": []
   },
   "outputs": [
    {
     "name": "stdout",
     "output_type": "stream",
     "text": [
      "Here's one:\n",
      "\n",
      "Why don't scientists trust atoms?\n",
      "\n",
      "Because they make up everything!\n",
      "\n",
      "Hope that made you laugh!\n"
     ]
    }
   ],
   "source": [
    "final_result = graph.invoke({})\n",
    "print(final_result['result'])"
   ]
  },
  {
   "cell_type": "markdown",
   "id": "f1e424d2",
   "metadata": {
    "papermill": {
     "duration": 0.006587,
     "end_time": "2025-08-01T17:33:57.814913",
     "exception": false,
     "start_time": "2025-08-01T17:33:57.808326",
     "status": "completed"
    },
    "tags": []
   },
   "source": [
    "# Question 2:\n",
    "You are building a LangGraph that translates a sentence from English to French using Groq's llama3-8b-8192 model.\n",
    "You need to build a 3-node graph:\n",
    "\n",
    "* A node to accept English input from the user.\n",
    "\n",
    "* A node to create a prompt for translation.\n",
    "\n",
    "* A node that gets the translated French sentence from the LLM."
   ]
  },
  {
   "cell_type": "code",
   "execution_count": 7,
   "id": "2d7a3f8e",
   "metadata": {
    "execution": {
     "iopub.execute_input": "2025-08-01T17:33:57.829904Z",
     "iopub.status.busy": "2025-08-01T17:33:57.829580Z",
     "iopub.status.idle": "2025-08-01T17:33:58.125014Z",
     "shell.execute_reply": "2025-08-01T17:33:58.123813Z"
    },
    "papermill": {
     "duration": 0.305129,
     "end_time": "2025-08-01T17:33:58.127045",
     "exception": false,
     "start_time": "2025-08-01T17:33:57.821916",
     "status": "completed"
    },
    "tags": []
   },
   "outputs": [
    {
     "data": {
      "text/plain": [
       "{'question': 'Where is the nearest train station?',\n",
       " 'prompt': 'Translate this sentence into French:\\n\\nWhere is the nearest train station?',\n",
       " 'result': 'Où est la gare de train la plus proche?\\n\\nHere\\'s a breakdown of the translation:\\n\\n* \"Where\" is translated to \"Où\"\\n* \"is\" is implied, as it\\'s a question about the location of something\\n* \"the\" is translated to \"la\" (since the nearest train station is a singular, feminine noun)\\n* \"nearest\" is translated to \"la plus proche\" (using the superlative form of \"proche\", which means \"near\" or \"close\")\\n* \"train station\" is translated to \"gare de train\"'}"
      ]
     },
     "execution_count": 7,
     "metadata": {},
     "output_type": "execute_result"
    }
   ],
   "source": [
    "from typing_extensions import TypedDict\n",
    "class State(TypedDict):\n",
    "    \"\"\"Defining State for our graph\"\"\"\n",
    "    question: str\n",
    "    prompt: str\n",
    "    result: str\n",
    "\n",
    "def inputs(state:State) -> State:\n",
    "    \"\"\"This input formats input.\"\"\"\n",
    "    inputs = \"Where is the nearest train station?\"\n",
    "    return {\"question\":inputs}\n",
    "\n",
    "def create_prompts(state:State) -> State:\n",
    "    \"\"\"Generates prompt.\"\"\"\n",
    "    prompt = f\"Translate this sentence into French:\\n\\n{state['question']}\"\n",
    "    return {\"prompt\": prompt}\n",
    "\n",
    "def translate_to_French(state:State) -> State:\n",
    "    \"\"\"Return French translation of English sentence.\"\"\"\n",
    "    result = llm.invoke(state['prompt'])\n",
    "    return {\"result\": result.content}\n",
    "\n",
    "graph_builder = StateGraph(State).add_sequence([inputs,create_prompts,translate_to_French])\n",
    "graph_builder.add_edge(START,\"inputs\")\n",
    "graph = graph_builder.compile()\n",
    "\n",
    "graph.invoke({})"
   ]
  },
  {
   "cell_type": "code",
   "execution_count": 8,
   "id": "e7d16f94",
   "metadata": {
    "execution": {
     "iopub.execute_input": "2025-08-01T17:33:58.144179Z",
     "iopub.status.busy": "2025-08-01T17:33:58.143867Z",
     "iopub.status.idle": "2025-08-01T17:33:58.254939Z",
     "shell.execute_reply": "2025-08-01T17:33:58.252869Z"
    },
    "papermill": {
     "duration": 0.121146,
     "end_time": "2025-08-01T17:33:58.256655",
     "exception": false,
     "start_time": "2025-08-01T17:33:58.135509",
     "status": "completed"
    },
    "tags": []
   },
   "outputs": [
    {
     "data": {
      "image/png": "[encoded data removed]",
      "text/plain": [
       "<IPython.core.display.Image object>"
      ]
     },
     "metadata": {},
     "output_type": "display_data"
    }
   ],
   "source": [
    "from IPython.display import display,Image\n",
    "display(Image(graph.get_graph().draw_mermaid_png()))"
   ]
  },
  {
   "cell_type": "markdown",
   "id": "06827f8e",
   "metadata": {
    "papermill": {
     "duration": 0.007218,
     "end_time": "2025-08-01T17:33:58.273244",
     "exception": false,
     "start_time": "2025-08-01T17:33:58.266026",
     "status": "completed"
    },
    "tags": []
   },
   "source": [
    "### Question 3:\n",
    "\n",
    "You're building a LangGraph workflow that uses LangChain tools.\n",
    "\n",
    "You want to:\n",
    "\n",
    "* Accept a user's question (e.g., \"Show me all employees in the Sales department\"),\n",
    "\n",
    "* Generate a SQL query from it using an LLM,\n",
    "\n",
    "* Execute the SQL query using a tool (QuerySQLDatabaseTool), and\n",
    "\n",
    "* Return the final result."
   ]
  },
  {
   "cell_type": "code",
   "execution_count": 9,
   "id": "482f04db",
   "metadata": {
    "execution": {
     "iopub.execute_input": "2025-08-01T17:33:58.291654Z",
     "iopub.status.busy": "2025-08-01T17:33:58.291319Z",
     "iopub.status.idle": "2025-08-01T17:33:59.453957Z",
     "shell.execute_reply": "2025-08-01T17:33:59.452952Z"
    },
    "papermill": {
     "duration": 1.17313,
     "end_time": "2025-08-01T17:33:59.455515",
     "exception": false,
     "start_time": "2025-08-01T17:33:58.282385",
     "status": "completed"
    },
    "tags": []
   },
   "outputs": [
    {
     "name": "stdout",
     "output_type": "stream",
     "text": [
      "sqlite\n",
      "['Album', 'Artist', 'Customer', 'Employee', 'Genre', 'Invoice', 'InvoiceLine', 'MediaType', 'Playlist', 'PlaylistTrack', 'Track']\n"
     ]
    }
   ],
   "source": [
    "from langchain_community.utilities import SQLDatabase\n",
    "db=SQLDatabase.from_uri(\"sqlite:////kaggle/input/chinook/Chinook_Sqlite.sqlite\")\n",
    "print(db.dialect)\n",
    "print(db.get_usable_table_names())\n"
   ]
  },
  {
   "cell_type": "code",
   "execution_count": 10,
   "id": "2fa7ef58",
   "metadata": {
    "execution": {
     "iopub.execute_input": "2025-08-01T17:33:59.472549Z",
     "iopub.status.busy": "2025-08-01T17:33:59.472119Z",
     "iopub.status.idle": "2025-08-01T17:33:59.478461Z",
     "shell.execute_reply": "2025-08-01T17:33:59.477452Z"
    },
    "papermill": {
     "duration": 0.017356,
     "end_time": "2025-08-01T17:33:59.480394",
     "exception": false,
     "start_time": "2025-08-01T17:33:59.463038",
     "status": "completed"
    },
    "tags": []
   },
   "outputs": [],
   "source": [
    "from typing_extensions import TypedDict, Annotated\n",
    "class State(TypedDict):\n",
    "    question: str\n",
    "    query: str\n",
    "    query_result: str\n",
    "    result:str\n",
    "\n",
    "    "
   ]
  },
  {
   "cell_type": "code",
   "execution_count": 11,
   "id": "3fc65459",
   "metadata": {
    "execution": {
     "iopub.execute_input": "2025-08-01T17:33:59.497647Z",
     "iopub.status.busy": "2025-08-01T17:33:59.497031Z",
     "iopub.status.idle": "2025-08-01T17:33:59.532692Z",
     "shell.execute_reply": "2025-08-01T17:33:59.531370Z"
    },
    "papermill": {
     "duration": 0.045885,
     "end_time": "2025-08-01T17:33:59.534450",
     "exception": false,
     "start_time": "2025-08-01T17:33:59.488565",
     "status": "completed"
    },
    "tags": []
   },
   "outputs": [
    {
     "name": "stdout",
     "output_type": "stream",
     "text": [
      "================================\u001b[1m System Message \u001b[0m================================\n",
      "\n",
      "Given an input question, create a syntactically correct \u001b[33;1m\u001b[1;3m{dialect}\u001b[0m query to\n",
      "run to help find the answer. Unless the user specifies in his question a\n",
      "specific number of examples they wish to obtain, always limit your query to\n",
      "at most \u001b[33;1m\u001b[1;3m{top_k}\u001b[0m results. You can order the results by a relevant column to\n",
      "return the most interesting examples in the database.\n",
      "\n",
      "Never query for all the columns from a specific table, only ask for a the\n",
      "few relevant columns given the question.\n",
      "\n",
      "Pay attention to use only the column names that you can see in the schema\n",
      "description. Be careful to not query for columns that do not exist. Also,\n",
      "pay attention to which column is in which table.\n",
      "\n",
      "Only use the following tables:\n",
      "\u001b[33;1m\u001b[1;3m{table_info}\u001b[0m\n",
      "\n",
      "================================\u001b[1m Human Message \u001b[0m=================================\n",
      "\n",
      "Question:\u001b[33;1m\u001b[1;3m{question}\u001b[0m\n"
     ]
    }
   ],
   "source": [
    "from langchain_core.prompts import ChatPromptTemplate\n",
    "system=\"\"\"Given an input question, create a syntactically correct {dialect} query to\n",
    "run to help find the answer. Unless the user specifies in his question a\n",
    "specific number of examples they wish to obtain, always limit your query to\n",
    "at most {top_k} results. You can order the results by a relevant column to\n",
    "return the most interesting examples in the database.\n",
    "\n",
    "Never query for all the columns from a specific table, only ask for a the\n",
    "few relevant columns given the question.\n",
    "\n",
    "Pay attention to use only the column names that you can see in the schema\n",
    "description. Be careful to not query for columns that do not exist. Also,\n",
    "pay attention to which column is in which table.\n",
    "\n",
    "Only use the following tables:\n",
    "{table_info}\n",
    "\"\"\"\n",
    "human = \"Question:{question}\"\n",
    "\n",
    "chat = ChatPromptTemplate(\n",
    "    [(\"system\",system),(\"user\",human)]\n",
    ")\n",
    "for message in chat.messages:\n",
    "    message.pretty_print()\n",
    "\n",
    "\n",
    "\n",
    "class QueryOutput(TypedDict):\n",
    "    \"\"\"Query Output\"\"\"\n",
    "    query: Annotated[str,...,\"Syntactically valid SQL query\"]\n",
    "\n",
    "def generate_query(state:State)->State:\n",
    "    \"\"\"Genrate SQL Query\"\"\"\n",
    "    prompt = chat.invoke(\n",
    "        {\n",
    "            \"dialect\":db.dialect,\n",
    "            \"top_k\":8,\n",
    "            \"table_info\":db.get_table_info(),\n",
    "            \"question\":state[\"question\"]\n",
    "        }\n",
    "    )\n",
    "    structured_llm = llm.with_structured_output(QueryOutput)\n",
    "    result = structured_llm.invoke(prompt)\n",
    "    return {\"query\":result[\"query\"]}\n"
   ]
  },
  {
   "cell_type": "code",
   "execution_count": 12,
   "id": "a5e6a78a",
   "metadata": {
    "execution": {
     "iopub.execute_input": "2025-08-01T17:33:59.551327Z",
     "iopub.status.busy": "2025-08-01T17:33:59.550702Z",
     "iopub.status.idle": "2025-08-01T17:34:00.370303Z",
     "shell.execute_reply": "2025-08-01T17:34:00.369043Z"
    },
    "papermill": {
     "duration": 0.83006,
     "end_time": "2025-08-01T17:34:00.372345",
     "exception": false,
     "start_time": "2025-08-01T17:33:59.542285",
     "status": "completed"
    },
    "tags": []
   },
   "outputs": [
    {
     "data": {
      "text/plain": [
       "{'query': 'SELECT COUNT(*) FROM Playlist;'}"
      ]
     },
     "execution_count": 12,
     "metadata": {},
     "output_type": "execute_result"
    }
   ],
   "source": [
    "ques = \"How many Playlists are there?\"\n",
    "generate_query({\"question\":ques})"
   ]
  },
  {
   "cell_type": "code",
   "execution_count": 13,
   "id": "01e96b85",
   "metadata": {
    "execution": {
     "iopub.execute_input": "2025-08-01T17:34:00.393764Z",
     "iopub.status.busy": "2025-08-01T17:34:00.393417Z",
     "iopub.status.idle": "2025-08-01T17:34:00.419879Z",
     "shell.execute_reply": "2025-08-01T17:34:00.418966Z"
    },
    "papermill": {
     "duration": 0.038871,
     "end_time": "2025-08-01T17:34:00.421720",
     "exception": false,
     "start_time": "2025-08-01T17:34:00.382849",
     "status": "completed"
    },
    "tags": []
   },
   "outputs": [],
   "source": [
    "from langchain_community.tools.sql_database.tool import QuerySQLDatabaseTool\n",
    "def execute_query(state:State)->State:\n",
    "    \"Running the query\"\n",
    "    execute_query_tool = QuerySQLDatabaseTool(db=db)\n",
    "    return {\"query_result\":execute_query_tool.invoke(state[\"query\"])}"
   ]
  },
  {
   "cell_type": "code",
   "execution_count": 14,
   "id": "403a479b",
   "metadata": {
    "execution": {
     "iopub.execute_input": "2025-08-01T17:34:00.439435Z",
     "iopub.status.busy": "2025-08-01T17:34:00.439123Z",
     "iopub.status.idle": "2025-08-01T17:34:00.456653Z",
     "shell.execute_reply": "2025-08-01T17:34:00.455401Z"
    },
    "papermill": {
     "duration": 0.029137,
     "end_time": "2025-08-01T17:34:00.458592",
     "exception": false,
     "start_time": "2025-08-01T17:34:00.429455",
     "status": "completed"
    },
    "tags": []
   },
   "outputs": [
    {
     "data": {
      "text/plain": [
       "{'query_result': '[(275,)]'}"
      ]
     },
     "execution_count": 14,
     "metadata": {},
     "output_type": "execute_result"
    }
   ],
   "source": [
    "execute_query({'query': 'SELECT COUNT(DISTINCT ArtistId) FROM Artist'})"
   ]
  },
  {
   "cell_type": "code",
   "execution_count": 15,
   "id": "c6de6cc8",
   "metadata": {
    "execution": {
     "iopub.execute_input": "2025-08-01T17:34:00.476611Z",
     "iopub.status.busy": "2025-08-01T17:34:00.476309Z",
     "iopub.status.idle": "2025-08-01T17:34:00.481476Z",
     "shell.execute_reply": "2025-08-01T17:34:00.480644Z"
    },
    "papermill": {
     "duration": 0.016597,
     "end_time": "2025-08-01T17:34:00.483201",
     "exception": false,
     "start_time": "2025-08-01T17:34:00.466604",
     "status": "completed"
    },
    "tags": []
   },
   "outputs": [],
   "source": [
    "def generate_answer(state:State)->State:\n",
    "    \"\"\"Generate answer based on query and query_result\"\"\"\n",
    "    prompt = (\"Given the following user question, corresponding to a SQL query, \"\n",
    "    \"and SQL query result, answer the user question based on SQL query and SQL query result.\\n\\n\"\n",
    "    f\"Question: {state['question']}\\n\"\n",
    "    f\"SQL Query:{state['query']}\\n\"\n",
    "    f\"SQL Query result: {state['query_result']}\")\n",
    "    result = llm.invoke(prompt)\n",
    "    return {\"result\":result.content}"
   ]
  },
  {
   "cell_type": "code",
   "execution_count": 16,
   "id": "493e70cd",
   "metadata": {
    "execution": {
     "iopub.execute_input": "2025-08-01T17:34:00.500067Z",
     "iopub.status.busy": "2025-08-01T17:34:00.499724Z",
     "iopub.status.idle": "2025-08-01T17:34:00.507590Z",
     "shell.execute_reply": "2025-08-01T17:34:00.506827Z"
    },
    "papermill": {
     "duration": 0.017954,
     "end_time": "2025-08-01T17:34:00.508974",
     "exception": false,
     "start_time": "2025-08-01T17:34:00.491020",
     "status": "completed"
    },
    "tags": []
   },
   "outputs": [],
   "source": [
    "from langgraph.graph import StateGraph, START\n",
    "graph_builder = StateGraph(State).add_sequence([generate_query,execute_query,generate_answer])\n",
    "graph_builder.add_edge(START,\"generate_query\")\n",
    "graph = graph_builder.compile()"
   ]
  },
  {
   "cell_type": "code",
   "execution_count": 17,
   "id": "4e74f33d",
   "metadata": {
    "execution": {
     "iopub.execute_input": "2025-08-01T17:34:00.526404Z",
     "iopub.status.busy": "2025-08-01T17:34:00.526108Z",
     "iopub.status.idle": "2025-08-01T17:34:00.890904Z",
     "shell.execute_reply": "2025-08-01T17:34:00.890011Z"
    },
    "papermill": {
     "duration": 0.375062,
     "end_time": "2025-08-01T17:34:00.892382",
     "exception": false,
     "start_time": "2025-08-01T17:34:00.517320",
     "status": "completed"
    },
    "tags": []
   },
   "outputs": [
    {
     "data": {
      "image/png": "[encoded data removed]",
      "text/plain": [
       "<IPython.core.display.Image object>"
      ]
     },
     "metadata": {},
     "output_type": "display_data"
    }
   ],
   "source": [
    "from IPython.display import Image,display\n",
    "display(Image(graph.get_graph().draw_mermaid_png()))"
   ]
  },
  {
   "cell_type": "code",
   "execution_count": 18,
   "id": "53500c3a",
   "metadata": {
    "execution": {
     "iopub.execute_input": "2025-08-01T17:34:00.909854Z",
     "iopub.status.busy": "2025-08-01T17:34:00.909498Z",
     "iopub.status.idle": "2025-08-01T17:34:05.700443Z",
     "shell.execute_reply": "2025-08-01T17:34:05.699224Z"
    },
    "papermill": {
     "duration": 4.802053,
     "end_time": "2025-08-01T17:34:05.702653",
     "exception": false,
     "start_time": "2025-08-01T17:34:00.900600",
     "status": "completed"
    },
    "tags": []
   },
   "outputs": [
    {
     "name": "stdout",
     "output_type": "stream",
     "text": [
      "{'generate_query': {'query': 'SELECT COUNT(DISTINCT ArtistId) FROM Artist'}}\n",
      "{'execute_query': {'query_result': '[(275,)]'}}\n",
      "{'generate_answer': {'result': 'Based on the SQL query result [(275,)], the answer to the user question \"how many artists are there\" is:\\n\\nThere are **275** artists.'}}\n"
     ]
    }
   ],
   "source": [
    "for step in graph.stream(\n",
    "    {\"question\": \"how many artists are there\"}, stream_mode=\"updates\"\n",
    "):\n",
    "    \n",
    "    print(step)"
   ]
  },
  {
   "cell_type": "markdown",
   "id": "7c16b466",
   "metadata": {
    "papermill": {
     "duration": 0.008687,
     "end_time": "2025-08-01T17:34:05.720370",
     "exception": false,
     "start_time": "2025-08-01T17:34:05.711683",
     "status": "completed"
    },
    "tags": []
   },
   "source": [
    "# Question 4:\n",
    "You are building a text summarization workflow using LangGraph.\n",
    "\n",
    "The steps are:\n",
    "\n",
    "**Input:** Take a paragraph of text from the user.\n",
    "\n",
    "**Prompt:** Format a prompt like:\n",
    "\"Please summarize the following passage:\\n\\n{text}\"\n",
    "\n",
    "**LLM Call:** Use Groq + LLaMA3 to generate the summary.\n",
    "\n",
    "**Output:** Return the final summarized result.\n",
    "\n"
   ]
  },
  {
   "cell_type": "code",
   "execution_count": 19,
   "id": "0ba3d359",
   "metadata": {
    "execution": {
     "iopub.execute_input": "2025-08-01T17:34:05.743179Z",
     "iopub.status.busy": "2025-08-01T17:34:05.742718Z",
     "iopub.status.idle": "2025-08-01T17:34:08.215256Z",
     "shell.execute_reply": "2025-08-01T17:34:08.213461Z"
    },
    "papermill": {
     "duration": 2.486176,
     "end_time": "2025-08-01T17:34:08.217524",
     "exception": false,
     "start_time": "2025-08-01T17:34:05.731348",
     "status": "completed"
    },
    "tags": []
   },
   "outputs": [
    {
     "name": "stdout",
     "output_type": "stream",
     "text": [
      "Here is a summary of the paragraph in 3 lines:\n",
      "\n",
      "Our solar system contains the Sun, 8 planets, 5 dwarf planets, hundreds of moons, and thousands of asteroids and comets. It is located in the Milky Way galaxy, specifically in the Orion Arm, and orbits the center of the galaxy at 515,000 mph. It takes approximately 230 million years to complete one orbit around the galactic center.\n"
     ]
    }
   ],
   "source": [
    "#Using langchain\n",
    "text = \"\"\"Our solar system includes the Sun, eight planets, five officially named dwarf planets, \n",
    "hundreds of moons, and thousands of asteroids and comets.Our solar system is located in the Milky Way, \n",
    "a barred spiral galaxy with two major arms, and two minor arms. Our Sun is in a small, partial arm of the\n",
    "Milky Way called the Orion Arm, or Orion Spur, between the Sagittarius and Perseus arms. Our solar system orbits \n",
    "the center of the galaxy at about 515,000 mph (828,000 kph). It takes about 230 million years to complete one orbit \n",
    "around the galactic center.\"\"\"\n",
    "prompt = PromptTemplate.from_template(\"You will be given a paragraph. You will have to summarize that paragraph in not more than 3 lines. Here is the paragraph:\\n\\n {text}\")\n",
    "formatted_prompt = prompt.format(text=text)\n",
    "result = llm.invoke(formatted_prompt)\n",
    "output = result.content\n",
    "print(output)"
   ]
  },
  {
   "cell_type": "code",
   "execution_count": 20,
   "id": "2fa23677",
   "metadata": {
    "execution": {
     "iopub.execute_input": "2025-08-01T17:34:08.239203Z",
     "iopub.status.busy": "2025-08-01T17:34:08.238840Z",
     "iopub.status.idle": "2025-08-01T17:34:11.399540Z",
     "shell.execute_reply": "2025-08-01T17:34:11.398210Z"
    },
    "papermill": {
     "duration": 3.175107,
     "end_time": "2025-08-01T17:34:11.401805",
     "exception": false,
     "start_time": "2025-08-01T17:34:08.226698",
     "status": "completed"
    },
    "tags": []
   },
   "outputs": [
    {
     "data": {
      "text/plain": [
       "{'initial_text': 'Our solar system includes the Sun, eight planets, five officially named dwarf planets, \\nhundreds of moons, and thousands of asteroids and comets.Our solar system is located in the Milky Way, \\na barred spiral galaxy with two major arms, and two minor arms. Our Sun is in a small, partial arm of the\\nMilky Way called the Orion Arm, or Orion Spur, between the Sagittarius and Perseus arms. Our solar system orbits \\nthe center of the galaxy at about 515,000 mph (828,000 kph). It takes about 230 million years to complete one orbit \\naround the galactic center.',\n",
       " 'prompt': 'You will be given a paragraph. You will have to summarize that paragraph in not more than 3 lines. Here is the paragraph:\\n\\n Our solar system includes the Sun, eight planets, five officially named dwarf planets, \\nhundreds of moons, and thousands of asteroids and comets.Our solar system is located in the Milky Way, \\na barred spiral galaxy with two major arms, and two minor arms. Our Sun is in a small, partial arm of the\\nMilky Way called the Orion Arm, or Orion Spur, between the Sagittarius and Perseus arms. Our solar system orbits \\nthe center of the galaxy at about 515,000 mph (828,000 kph). It takes about 230 million years to complete one orbit \\naround the galactic center.',\n",
       " 'result': 'Here is a summary of the paragraph in 3 lines:\\n\\nOur solar system consists of the Sun, eight planets, and other celestial bodies, located in the Milky Way galaxy. The Sun is situated in the Orion Arm, a small arm of the galaxy, and our solar system orbits the center of the galaxy at approximately 515,000 mph. It takes about 230 million years to complete one orbit around the galactic center.'}"
      ]
     },
     "execution_count": 20,
     "metadata": {},
     "output_type": "execute_result"
    }
   ],
   "source": [
    "#Using langgraph\n",
    "\n",
    "class State(TypedDict):\n",
    "    initial_text: str\n",
    "    prompt: str\n",
    "    result: str\n",
    "\n",
    "\n",
    "text =  \"\"\"Our solar system includes the Sun, eight planets, five officially named dwarf planets, \n",
    "hundreds of moons, and thousands of asteroids and comets.Our solar system is located in the Milky Way, \n",
    "a barred spiral galaxy with two major arms, and two minor arms. Our Sun is in a small, partial arm of the\n",
    "Milky Way called the Orion Arm, or Orion Spur, between the Sagittarius and Perseus arms. Our solar system orbits \n",
    "the center of the galaxy at about 515,000 mph (828,000 kph). It takes about 230 million years to complete one orbit \n",
    "around the galactic center.\"\"\"\n",
    "\n",
    "def define_prompt(state:State):\n",
    "    prompt = PromptTemplate.from_template(\"You will be given a paragraph. You will have to summarize that paragraph in not more than 3 lines. Here is the paragraph:\\n\\n {text}\")\n",
    "    formatted_prompt = prompt.format(text=state['initial_text'])\n",
    "    return {\"prompt\":formatted_prompt}\n",
    "    \n",
    "def summarize(state:State):\n",
    "    answer = llm.invoke(state['prompt'])\n",
    "    return {\"result\":answer.content}\n",
    "\n",
    "\n",
    "from langgraph.graph import StateGraph, START\n",
    "graph_builder = StateGraph(State).add_sequence([define_prompt,summarize])\n",
    "graph_builder.add_edge(START,\"define_prompt\")\n",
    "graph = graph_builder.compile()\n",
    "\n",
    "answer = graph.invoke({\"initial_text\":text})\n",
    "answer"
   ]
  },
  {
   "cell_type": "code",
   "execution_count": null,
   "id": "1878d6c1",
   "metadata": {
    "papermill": {
     "duration": 0.008516,
     "end_time": "2025-08-01T17:34:11.420014",
     "exception": false,
     "start_time": "2025-08-01T17:34:11.411498",
     "status": "completed"
    },
    "tags": []
   },
   "outputs": [],
   "source": []
  }
 ],
 "metadata": {
  "kaggle": {
   "accelerator": "none",
   "dataSources": [
    {
     "datasetId": 3970738,
     "sourceId": 6914376,
     "sourceType": "datasetVersion"
    }
   ],
   "dockerImageVersionId": 31089,
   "isGpuEnabled": false,
   "isInternetEnabled": true,
   "language": "python",
   "sourceType": "notebook"
  },
  "kernelspec": {
   "display_name": "Python 3",
   "language": "python",
   "name": "python3"
  },
  "language_info": {
   "codemirror_mode": {
    "name": "ipython",
    "version": 3
   },
   "file_extension": ".py",
   "mimetype": "text/x-python",
   "name": "python",
   "nbconvert_exporter": "python",
   "pygments_lexer": "ipython3",
   "version": "3.11.13"
  },
  "papermill": {
   "default_parameters": {},
   "duration": 35.029302,
   "end_time": "2025-08-01T17:34:12.251268",
   "environment_variables": {},
   "exception": null,
   "input_path": "__notebook__.ipynb",
   "output_path": "__notebook__.ipynb",
   "parameters": {},
   "start_time": "2025-08-01T17:33:37.221966",
   "version": "2.6.0"
  }
 },
 "nbformat": 4,
 "nbformat_minor": 5
}
