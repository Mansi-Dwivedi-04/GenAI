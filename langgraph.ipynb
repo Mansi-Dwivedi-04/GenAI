{
 "cells": [
  {
   "cell_type": "markdown",
   "id": "3a9611aa",
   "metadata": {
    "papermill": {
     "duration": 0.004225,
     "end_time": "2025-07-31T17:35:02.207375",
     "exception": false,
     "start_time": "2025-07-31T17:35:02.203150",
     "status": "completed"
    },
    "tags": []
   },
   "source": [
    "## This notebook has 5 coding questions based on langgraph."
   ]
  },
  {
   "cell_type": "code",
   "execution_count": 1,
   "id": "39b0509d",
   "metadata": {
    "execution": {
     "iopub.execute_input": "2025-07-31T17:35:02.215141Z",
     "iopub.status.busy": "2025-07-31T17:35:02.214827Z",
     "iopub.status.idle": "2025-07-31T17:35:02.406439Z",
     "shell.execute_reply": "2025-07-31T17:35:02.405539Z"
    },
    "papermill": {
     "duration": 0.197261,
     "end_time": "2025-07-31T17:35:02.408008",
     "exception": false,
     "start_time": "2025-07-31T17:35:02.210747",
     "status": "completed"
    },
    "tags": []
   },
   "outputs": [],
   "source": [
    "from kaggle_secrets import UserSecretsClient\n",
    "user_secrets = UserSecretsClient()\n",
    "secret_value_0 = user_secrets.get_secret(\"groq_key\")\n"
   ]
  },
  {
   "cell_type": "code",
   "execution_count": 2,
   "id": "738ce3e5",
   "metadata": {
    "execution": {
     "iopub.execute_input": "2025-07-31T17:35:02.416531Z",
     "iopub.status.busy": "2025-07-31T17:35:02.415568Z",
     "iopub.status.idle": "2025-07-31T17:35:14.456898Z",
     "shell.execute_reply": "2025-07-31T17:35:14.455707Z"
    },
    "papermill": {
     "duration": 12.047499,
     "end_time": "2025-07-31T17:35:14.458845",
     "exception": false,
     "start_time": "2025-07-31T17:35:02.411346",
     "status": "completed"
    },
    "tags": []
   },
   "outputs": [
    {
     "name": "stdout",
     "output_type": "stream",
     "text": [
      "Requirement already satisfied: langchain in /usr/local/lib/python3.11/dist-packages (0.3.26)\r\n",
      "Collecting langgraph\r\n",
      "  Downloading langgraph-0.6.2-py3-none-any.whl.metadata (6.8 kB)\r\n",
      "Collecting langchain-groq\r\n",
      "  Downloading langchain_groq-0.3.6-py3-none-any.whl.metadata (2.6 kB)\r\n",
      "Collecting langchain_community\r\n",
      "  Downloading langchain_community-0.3.27-py3-none-any.whl.metadata (2.9 kB)\r\n",
      "Requirement already satisfied: langchain-core<1.0.0,>=0.3.66 in /usr/local/lib/python3.11/dist-packages (from langchain) (0.3.66)\r\n",
      "Requirement already satisfied: langchain-text-splitters<1.0.0,>=0.3.8 in /usr/local/lib/python3.11/dist-packages (from langchain) (0.3.8)\r\n",
      "Requirement already satisfied: langsmith>=0.1.17 in /usr/local/lib/python3.11/dist-packages (from langchain) (0.4.1)\r\n",
      "Requirement already satisfied: pydantic<3.0.0,>=2.7.4 in /usr/local/lib/python3.11/dist-packages (from langchain) (2.11.7)\r\n",
      "Requirement already satisfied: SQLAlchemy<3,>=1.4 in /usr/local/lib/python3.11/dist-packages (from langchain) (2.0.41)\r\n",
      "Requirement already satisfied: requests<3,>=2 in /usr/local/lib/python3.11/dist-packages (from langchain) (2.32.4)\r\n",
      "Requirement already satisfied: PyYAML>=5.3 in /usr/local/lib/python3.11/dist-packages (from langchain) (6.0.2)\r\n",
      "Collecting langgraph-checkpoint<3.0.0,>=2.1.0 (from langgraph)\r\n",
      "  Downloading langgraph_checkpoint-2.1.1-py3-none-any.whl.metadata (4.2 kB)\r\n",
      "Collecting langgraph-prebuilt<0.7.0,>=0.6.0 (from langgraph)\r\n",
      "  Downloading langgraph_prebuilt-0.6.2-py3-none-any.whl.metadata (4.5 kB)\r\n",
      "Collecting langgraph-sdk<0.3.0,>=0.2.0 (from langgraph)\r\n",
      "  Downloading langgraph_sdk-0.2.0-py3-none-any.whl.metadata (1.5 kB)\r\n",
      "Requirement already satisfied: xxhash>=3.5.0 in /usr/local/lib/python3.11/dist-packages (from langgraph) (3.5.0)\r\n",
      "Collecting langchain-core<1.0.0,>=0.3.66 (from langchain)\r\n",
      "  Downloading langchain_core-0.3.72-py3-none-any.whl.metadata (5.8 kB)\r\n",
      "Collecting groq<1,>=0.29.0 (from langchain-groq)\r\n",
      "  Downloading groq-0.30.0-py3-none-any.whl.metadata (16 kB)\r\n",
      "Requirement already satisfied: aiohttp<4.0.0,>=3.8.3 in /usr/local/lib/python3.11/dist-packages (from langchain_community) (3.12.13)\r\n",
      "Requirement already satisfied: tenacity!=8.4.0,<10,>=8.1.0 in /usr/local/lib/python3.11/dist-packages (from langchain_community) (8.5.0)\r\n",
      "Requirement already satisfied: dataclasses-json<0.7,>=0.5.7 in /usr/local/lib/python3.11/dist-packages (from langchain_community) (0.6.7)\r\n",
      "Collecting pydantic-settings<3.0.0,>=2.4.0 (from langchain_community)\r\n",
      "  Downloading pydantic_settings-2.10.1-py3-none-any.whl.metadata (3.4 kB)\r\n",
      "Collecting httpx-sse<1.0.0,>=0.4.0 (from langchain_community)\r\n",
      "  Downloading httpx_sse-0.4.1-py3-none-any.whl.metadata (9.4 kB)\r\n",
      "Requirement already satisfied: numpy>=1.26.2 in /usr/local/lib/python3.11/dist-packages (from langchain_community) (1.26.4)\r\n",
      "Requirement already satisfied: aiohappyeyeballs>=2.5.0 in /usr/local/lib/python3.11/dist-packages (from aiohttp<4.0.0,>=3.8.3->langchain_community) (2.6.1)\r\n",
      "Requirement already satisfied: aiosignal>=1.1.2 in /usr/local/lib/python3.11/dist-packages (from aiohttp<4.0.0,>=3.8.3->langchain_community) (1.3.2)\r\n",
      "Requirement already satisfied: attrs>=17.3.0 in /usr/local/lib/python3.11/dist-packages (from aiohttp<4.0.0,>=3.8.3->langchain_community) (25.3.0)\r\n",
      "Requirement already satisfied: frozenlist>=1.1.1 in /usr/local/lib/python3.11/dist-packages (from aiohttp<4.0.0,>=3.8.3->langchain_community) (1.7.0)\r\n",
      "Requirement already satisfied: multidict<7.0,>=4.5 in /usr/local/lib/python3.11/dist-packages (from aiohttp<4.0.0,>=3.8.3->langchain_community) (6.6.3)\r\n",
      "Requirement already satisfied: propcache>=0.2.0 in /usr/local/lib/python3.11/dist-packages (from aiohttp<4.0.0,>=3.8.3->langchain_community) (0.3.2)\r\n",
      "Requirement already satisfied: yarl<2.0,>=1.17.0 in /usr/local/lib/python3.11/dist-packages (from aiohttp<4.0.0,>=3.8.3->langchain_community) (1.20.1)\r\n",
      "Requirement already satisfied: marshmallow<4.0.0,>=3.18.0 in /usr/local/lib/python3.11/dist-packages (from dataclasses-json<0.7,>=0.5.7->langchain_community) (3.26.1)\r\n",
      "Requirement already satisfied: typing-inspect<1,>=0.4.0 in /usr/local/lib/python3.11/dist-packages (from dataclasses-json<0.7,>=0.5.7->langchain_community) (0.9.0)\r\n",
      "Requirement already satisfied: anyio<5,>=3.5.0 in /usr/local/lib/python3.11/dist-packages (from groq<1,>=0.29.0->langchain-groq) (4.9.0)\r\n",
      "Requirement already satisfied: distro<2,>=1.7.0 in /usr/local/lib/python3.11/dist-packages (from groq<1,>=0.29.0->langchain-groq) (1.9.0)\r\n",
      "Requirement already satisfied: httpx<1,>=0.23.0 in /usr/local/lib/python3.11/dist-packages (from groq<1,>=0.29.0->langchain-groq) (0.28.1)\r\n",
      "Requirement already satisfied: sniffio in /usr/local/lib/python3.11/dist-packages (from groq<1,>=0.29.0->langchain-groq) (1.3.1)\r\n",
      "Requirement already satisfied: typing-extensions<5,>=4.10 in /usr/local/lib/python3.11/dist-packages (from groq<1,>=0.29.0->langchain-groq) (4.14.0)\r\n",
      "Requirement already satisfied: jsonpatch<2.0,>=1.33 in /usr/local/lib/python3.11/dist-packages (from langchain-core<1.0.0,>=0.3.66->langchain) (1.33)\r\n",
      "Requirement already satisfied: packaging>=23.2 in /usr/local/lib/python3.11/dist-packages (from langchain-core<1.0.0,>=0.3.66->langchain) (25.0)\r\n",
      "Collecting ormsgpack>=1.10.0 (from langgraph-checkpoint<3.0.0,>=2.1.0->langgraph)\r\n",
      "  Downloading ormsgpack-1.10.0-cp311-cp311-manylinux_2_17_x86_64.manylinux2014_x86_64.whl.metadata (43 kB)\r\n",
      "\u001b[2K     \u001b[90m━━━━━━━━━━━━━━━━━━━━━━━━━━━━━━━━━━━━━━━━\u001b[0m \u001b[32m43.7/43.7 kB\u001b[0m \u001b[31m1.4 MB/s\u001b[0m eta \u001b[36m0:00:00\u001b[0m\r\n",
      "\u001b[?25hRequirement already satisfied: orjson>=3.10.1 in /usr/local/lib/python3.11/dist-packages (from langgraph-sdk<0.3.0,>=0.2.0->langgraph) (3.10.18)\r\n",
      "Requirement already satisfied: requests-toolbelt<2.0.0,>=1.0.0 in /usr/local/lib/python3.11/dist-packages (from langsmith>=0.1.17->langchain) (1.0.0)\r\n",
      "Requirement already satisfied: zstandard<0.24.0,>=0.23.0 in /usr/local/lib/python3.11/dist-packages (from langsmith>=0.1.17->langchain) (0.23.0)\r\n",
      "Requirement already satisfied: mkl_fft in /usr/local/lib/python3.11/dist-packages (from numpy>=1.26.2->langchain_community) (1.3.8)\r\n",
      "Requirement already satisfied: mkl_random in /usr/local/lib/python3.11/dist-packages (from numpy>=1.26.2->langchain_community) (1.2.4)\r\n",
      "Requirement already satisfied: mkl_umath in /usr/local/lib/python3.11/dist-packages (from numpy>=1.26.2->langchain_community) (0.1.1)\r\n",
      "Requirement already satisfied: mkl in /usr/local/lib/python3.11/dist-packages (from numpy>=1.26.2->langchain_community) (2025.2.0)\r\n",
      "Requirement already satisfied: tbb4py in /usr/local/lib/python3.11/dist-packages (from numpy>=1.26.2->langchain_community) (2022.2.0)\r\n",
      "Requirement already satisfied: mkl-service in /usr/local/lib/python3.11/dist-packages (from numpy>=1.26.2->langchain_community) (2.4.1)\r\n",
      "Requirement already satisfied: annotated-types>=0.6.0 in /usr/local/lib/python3.11/dist-packages (from pydantic<3.0.0,>=2.7.4->langchain) (0.7.0)\r\n",
      "Requirement already satisfied: pydantic-core==2.33.2 in /usr/local/lib/python3.11/dist-packages (from pydantic<3.0.0,>=2.7.4->langchain) (2.33.2)\r\n",
      "Requirement already satisfied: typing-inspection>=0.4.0 in /usr/local/lib/python3.11/dist-packages (from pydantic<3.0.0,>=2.7.4->langchain) (0.4.1)\r\n",
      "Collecting python-dotenv>=0.21.0 (from pydantic-settings<3.0.0,>=2.4.0->langchain_community)\r\n",
      "  Downloading python_dotenv-1.1.1-py3-none-any.whl.metadata (24 kB)\r\n",
      "Requirement already satisfied: charset_normalizer<4,>=2 in /usr/local/lib/python3.11/dist-packages (from requests<3,>=2->langchain) (3.4.2)\r\n",
      "Requirement already satisfied: idna<4,>=2.5 in /usr/local/lib/python3.11/dist-packages (from requests<3,>=2->langchain) (3.10)\r\n",
      "Requirement already satisfied: urllib3<3,>=1.21.1 in /usr/local/lib/python3.11/dist-packages (from requests<3,>=2->langchain) (2.5.0)\r\n",
      "Requirement already satisfied: certifi>=2017.4.17 in /usr/local/lib/python3.11/dist-packages (from requests<3,>=2->langchain) (2025.6.15)\r\n",
      "Requirement already satisfied: greenlet>=1 in /usr/local/lib/python3.11/dist-packages (from SQLAlchemy<3,>=1.4->langchain) (3.2.3)\r\n",
      "Requirement already satisfied: httpcore==1.* in /usr/local/lib/python3.11/dist-packages (from httpx<1,>=0.23.0->groq<1,>=0.29.0->langchain-groq) (1.0.9)\r\n",
      "Requirement already satisfied: h11>=0.16 in /usr/local/lib/python3.11/dist-packages (from httpcore==1.*->httpx<1,>=0.23.0->groq<1,>=0.29.0->langchain-groq) (0.16.0)\r\n",
      "Requirement already satisfied: jsonpointer>=1.9 in /usr/local/lib/python3.11/dist-packages (from jsonpatch<2.0,>=1.33->langchain-core<1.0.0,>=0.3.66->langchain) (3.0.0)\r\n",
      "Requirement already satisfied: mypy-extensions>=0.3.0 in /usr/local/lib/python3.11/dist-packages (from typing-inspect<1,>=0.4.0->dataclasses-json<0.7,>=0.5.7->langchain_community) (1.1.0)\r\n",
      "Requirement already satisfied: intel-openmp<2026,>=2024 in /usr/local/lib/python3.11/dist-packages (from mkl->numpy>=1.26.2->langchain_community) (2024.2.0)\r\n",
      "Requirement already satisfied: tbb==2022.* in /usr/local/lib/python3.11/dist-packages (from mkl->numpy>=1.26.2->langchain_community) (2022.2.0)\r\n",
      "Requirement already satisfied: tcmlib==1.* in /usr/local/lib/python3.11/dist-packages (from tbb==2022.*->mkl->numpy>=1.26.2->langchain_community) (1.4.0)\r\n",
      "Requirement already satisfied: intel-cmplr-lib-rt in /usr/local/lib/python3.11/dist-packages (from mkl_umath->numpy>=1.26.2->langchain_community) (2024.2.0)\r\n",
      "Requirement already satisfied: intel-cmplr-lib-ur==2024.2.0 in /usr/local/lib/python3.11/dist-packages (from intel-openmp<2026,>=2024->mkl->numpy>=1.26.2->langchain_community) (2024.2.0)\r\n",
      "Downloading langgraph-0.6.2-py3-none-any.whl (152 kB)\r\n",
      "\u001b[2K   \u001b[90m━━━━━━━━━━━━━━━━━━━━━━━━━━━━━━━━━━━━━━━━\u001b[0m \u001b[32m152.2/152.2 kB\u001b[0m \u001b[31m4.0 MB/s\u001b[0m eta \u001b[36m0:00:00\u001b[0m\r\n",
      "\u001b[?25hDownloading langchain_groq-0.3.6-py3-none-any.whl (16 kB)\r\n",
      "Downloading langchain_community-0.3.27-py3-none-any.whl (2.5 MB)\r\n",
      "\u001b[2K   \u001b[90m━━━━━━━━━━━━━━━━━━━━━━━━━━━━━━━━━━━━━━━━\u001b[0m \u001b[32m2.5/2.5 MB\u001b[0m \u001b[31m48.6 MB/s\u001b[0m eta \u001b[36m0:00:00\u001b[0m\r\n",
      "\u001b[?25hDownloading groq-0.30.0-py3-none-any.whl (131 kB)\r\n",
      "\u001b[2K   \u001b[90m━━━━━━━━━━━━━━━━━━━━━━━━━━━━━━━━━━━━━━━━\u001b[0m \u001b[32m131.1/131.1 kB\u001b[0m \u001b[31m5.3 MB/s\u001b[0m eta \u001b[36m0:00:00\u001b[0m\r\n",
      "\u001b[?25hDownloading httpx_sse-0.4.1-py3-none-any.whl (8.1 kB)\r\n",
      "Downloading langchain_core-0.3.72-py3-none-any.whl (442 kB)\r\n",
      "\u001b[2K   \u001b[90m━━━━━━━━━━━━━━━━━━━━━━━━━━━━━━━━━━━━━━━━\u001b[0m \u001b[32m442.8/442.8 kB\u001b[0m \u001b[31m20.3 MB/s\u001b[0m eta \u001b[36m0:00:00\u001b[0m\r\n",
      "\u001b[?25hDownloading langgraph_checkpoint-2.1.1-py3-none-any.whl (43 kB)\r\n",
      "\u001b[2K   \u001b[90m━━━━━━━━━━━━━━━━━━━━━━━━━━━━━━━━━━━━━━━━\u001b[0m \u001b[32m43.9/43.9 kB\u001b[0m \u001b[31m1.9 MB/s\u001b[0m eta \u001b[36m0:00:00\u001b[0m\r\n",
      "\u001b[?25hDownloading langgraph_prebuilt-0.6.2-py3-none-any.whl (28 kB)\r\n",
      "Downloading langgraph_sdk-0.2.0-py3-none-any.whl (50 kB)\r\n",
      "\u001b[2K   \u001b[90m━━━━━━━━━━━━━━━━━━━━━━━━━━━━━━━━━━━━━━━━\u001b[0m \u001b[32m50.6/50.6 kB\u001b[0m \u001b[31m2.2 MB/s\u001b[0m eta \u001b[36m0:00:00\u001b[0m\r\n",
      "\u001b[?25hDownloading pydantic_settings-2.10.1-py3-none-any.whl (45 kB)\r\n",
      "\u001b[2K   \u001b[90m━━━━━━━━━━━━━━━━━━━━━━━━━━━━━━━━━━━━━━━━\u001b[0m \u001b[32m45.2/45.2 kB\u001b[0m \u001b[31m1.6 MB/s\u001b[0m eta \u001b[36m0:00:00\u001b[0m\r\n",
      "\u001b[?25hDownloading ormsgpack-1.10.0-cp311-cp311-manylinux_2_17_x86_64.manylinux2014_x86_64.whl (216 kB)\r\n",
      "\u001b[2K   \u001b[90m━━━━━━━━━━━━━━━━━━━━━━━━━━━━━━━━━━━━━━━━\u001b[0m \u001b[32m216.5/216.5 kB\u001b[0m \u001b[31m11.3 MB/s\u001b[0m eta \u001b[36m0:00:00\u001b[0m\r\n",
      "\u001b[?25hDownloading python_dotenv-1.1.1-py3-none-any.whl (20 kB)\r\n",
      "Installing collected packages: python-dotenv, ormsgpack, httpx-sse, pydantic-settings, langgraph-sdk, groq, langchain-core, langgraph-checkpoint, langchain-groq, langgraph-prebuilt, langgraph, langchain_community\r\n",
      "  Attempting uninstall: langchain-core\r\n",
      "    Found existing installation: langchain-core 0.3.66\r\n",
      "    Uninstalling langchain-core-0.3.66:\r\n",
      "      Successfully uninstalled langchain-core-0.3.66\r\n",
      "Successfully installed groq-0.30.0 httpx-sse-0.4.1 langchain-core-0.3.72 langchain-groq-0.3.6 langchain_community-0.3.27 langgraph-0.6.2 langgraph-checkpoint-2.1.1 langgraph-prebuilt-0.6.2 langgraph-sdk-0.2.0 ormsgpack-1.10.0 pydantic-settings-2.10.1 python-dotenv-1.1.1\r\n"
     ]
    }
   ],
   "source": [
    "! pip install langchain langgraph langchain-groq langchain_community"
   ]
  },
  {
   "cell_type": "code",
   "execution_count": 3,
   "id": "877608c9",
   "metadata": {
    "execution": {
     "iopub.execute_input": "2025-07-31T17:35:14.471276Z",
     "iopub.status.busy": "2025-07-31T17:35:14.470971Z",
     "iopub.status.idle": "2025-07-31T17:35:16.722270Z",
     "shell.execute_reply": "2025-07-31T17:35:16.721329Z"
    },
    "papermill": {
     "duration": 2.259463,
     "end_time": "2025-07-31T17:35:16.723953",
     "exception": false,
     "start_time": "2025-07-31T17:35:14.464490",
     "status": "completed"
    },
    "tags": []
   },
   "outputs": [],
   "source": [
    "import os\n",
    "if not os.environ.get(\"GROQ_API_KEY\"):\n",
    "    os.environ[\"GROQ_API_KEY\"] = secret_value_0\n",
    "\n",
    "from langchain.chat_models import init_chat_model\n",
    "llm = init_chat_model(model = \"llama3-8b-8192\", model_provider=\"groq\")"
   ]
  },
  {
   "cell_type": "markdown",
   "id": "df24837b",
   "metadata": {
    "papermill": {
     "duration": 0.005288,
     "end_time": "2025-07-31T17:35:16.734555",
     "exception": false,
     "start_time": "2025-07-31T17:35:16.729267",
     "status": "completed"
    },
    "tags": []
   },
   "source": [
    "## Question 1: \n",
    "Write a simple LangGraph with two nodes:\n",
    "\n",
    "* A user_input node that accepts a string.\n",
    "\n",
    "* A llm_response node that uses Groq to generate a response based on the input.\n",
    "\n",
    "The flow should:\n",
    "\n",
    "* Start from user_input → go to llm_response → and return the final result.\n",
    "\n",
    "📌 Constraints:\n",
    "\n",
    "* Input should be \"Tell me a joke\"."
   ]
  },
  {
   "cell_type": "code",
   "execution_count": 4,
   "id": "3d42542b",
   "metadata": {
    "execution": {
     "iopub.execute_input": "2025-07-31T17:35:16.746167Z",
     "iopub.status.busy": "2025-07-31T17:35:16.745652Z",
     "iopub.status.idle": "2025-07-31T17:35:16.779348Z",
     "shell.execute_reply": "2025-07-31T17:35:16.778311Z"
    },
    "papermill": {
     "duration": 0.041531,
     "end_time": "2025-07-31T17:35:16.781155",
     "exception": false,
     "start_time": "2025-07-31T17:35:16.739624",
     "status": "completed"
    },
    "tags": []
   },
   "outputs": [],
   "source": [
    "from langchain_core.prompts import PromptTemplate\n",
    "prompt = PromptTemplate(\n",
    "    input_variables = ['input'],\n",
    "    template = \"Reply to this query.\\n\\n{input}\"\n",
    ")"
   ]
  },
  {
   "cell_type": "code",
   "execution_count": 5,
   "id": "1a3d907b",
   "metadata": {
    "execution": {
     "iopub.execute_input": "2025-07-31T17:35:16.792845Z",
     "iopub.status.busy": "2025-07-31T17:35:16.792543Z",
     "iopub.status.idle": "2025-07-31T17:35:16.865274Z",
     "shell.execute_reply": "2025-07-31T17:35:16.864328Z"
    },
    "papermill": {
     "duration": 0.080634,
     "end_time": "2025-07-31T17:35:16.867064",
     "exception": false,
     "start_time": "2025-07-31T17:35:16.786430",
     "status": "completed"
    },
    "tags": []
   },
   "outputs": [],
   "source": [
    "from typing_extensions import TypedDict\n",
    "from langgraph.graph import START,StateGraph\n",
    "class State(TypedDict):\n",
    "    question: str\n",
    "    result: str\n",
    "\n",
    "\n",
    "def user_input(state:State):\n",
    "    \"\"\"Takes user input\"\"\"\n",
    "    input_str = \"Tell me a joke\"\n",
    "    user_prompt = prompt.format(input=input_str)\n",
    "    return {\"question\":user_prompt}\n",
    "\n",
    "def llm_response(state:State):\n",
    "    \"\"\"LLM responding to the question\"\"\"\n",
    "    response = llm.invoke(state['question'])\n",
    "    return {\"result\":response.content}\n",
    "\n",
    "graph_builder = StateGraph(State).add_sequence([user_input,llm_response])\n",
    "graph_builder.add_edge(START,\"user_input\")\n",
    "graph = graph_builder.compile()"
   ]
  },
  {
   "cell_type": "code",
   "execution_count": 6,
   "id": "888467f3",
   "metadata": {
    "execution": {
     "iopub.execute_input": "2025-07-31T17:35:16.879517Z",
     "iopub.status.busy": "2025-07-31T17:35:16.878331Z",
     "iopub.status.idle": "2025-07-31T17:35:21.449659Z",
     "shell.execute_reply": "2025-07-31T17:35:21.447938Z"
    },
    "papermill": {
     "duration": 4.579623,
     "end_time": "2025-07-31T17:35:21.451924",
     "exception": false,
     "start_time": "2025-07-31T17:35:16.872301",
     "status": "completed"
    },
    "tags": []
   },
   "outputs": [
    {
     "name": "stdout",
     "output_type": "stream",
     "text": [
      "Here's one:\n",
      "\n",
      "Why couldn't the bicycle stand up by itself?\n",
      "\n",
      "Because it was two-tired!\n",
      "\n",
      "Hope that made you smile!\n"
     ]
    }
   ],
   "source": [
    "final_result = graph.invoke({})\n",
    "print(final_result['result'])"
   ]
  },
  {
   "cell_type": "markdown",
   "id": "08e0869d",
   "metadata": {
    "papermill": {
     "duration": 0.005901,
     "end_time": "2025-07-31T17:35:21.464682",
     "exception": false,
     "start_time": "2025-07-31T17:35:21.458781",
     "status": "completed"
    },
    "tags": []
   },
   "source": [
    "# Question 2:\n",
    "You are building a LangGraph that translates a sentence from English to French using Groq's llama3-8b-8192 model.\n",
    "You need to build a 3-node graph:\n",
    "\n",
    "* A node to accept English input from the user.\n",
    "\n",
    "* A node to create a prompt for translation.\n",
    "\n",
    "* A node that gets the translated French sentence from the LLM."
   ]
  },
  {
   "cell_type": "code",
   "execution_count": 7,
   "id": "6db55cf6",
   "metadata": {
    "execution": {
     "iopub.execute_input": "2025-07-31T17:35:21.476385Z",
     "iopub.status.busy": "2025-07-31T17:35:21.476075Z",
     "iopub.status.idle": "2025-07-31T17:35:21.718823Z",
     "shell.execute_reply": "2025-07-31T17:35:21.717571Z"
    },
    "papermill": {
     "duration": 0.250485,
     "end_time": "2025-07-31T17:35:21.720370",
     "exception": false,
     "start_time": "2025-07-31T17:35:21.469885",
     "status": "completed"
    },
    "tags": []
   },
   "outputs": [
    {
     "data": {
      "text/plain": [
       "{'question': 'Where is the nearest train station?',\n",
       " 'prompt': 'Translate this sentence into French:\\n\\nWhere is the nearest train station?',\n",
       " 'result': 'La traduction de la phrase est :\\n\\n\"Où est la gare de train la plus proche ?\"\\n\\nHere\\'s a breakdown of the translation:\\n\\n* \"Where\" is translated to \"Où\"\\n* \"is\" is implied by the verb \"est\" in the sentence\\n* \"the\" is translated to \"la\" (since the noun \"gare\" is feminine)\\n* \"nearest\" is translated to \"la plus proche\"\\n* \"train station\" is translated to \"gare de train\"'}"
      ]
     },
     "execution_count": 7,
     "metadata": {},
     "output_type": "execute_result"
    }
   ],
   "source": [
    "from typing_extensions import TypedDict\n",
    "class State(TypedDict):\n",
    "    \"\"\"Defining State for our graph\"\"\"\n",
    "    question: str\n",
    "    prompt: str\n",
    "    result: str\n",
    "\n",
    "def inputs(state:State) -> State:\n",
    "    \"\"\"This input formats input.\"\"\"\n",
    "    inputs = \"Where is the nearest train station?\"\n",
    "    return {\"question\":inputs}\n",
    "\n",
    "def create_prompts(state:State) -> State:\n",
    "    \"\"\"Generates prompt.\"\"\"\n",
    "    prompt = f\"Translate this sentence into French:\\n\\n{state['question']}\"\n",
    "    return {\"prompt\": prompt}\n",
    "\n",
    "def translate_to_French(state:State) -> State:\n",
    "    \"\"\"Return French translation of English sentence.\"\"\"\n",
    "    result = llm.invoke(state['prompt'])\n",
    "    return {\"result\": result.content}\n",
    "\n",
    "graph_builder = StateGraph(State).add_sequence([inputs,create_prompts,translate_to_French])\n",
    "graph_builder.add_edge(START,\"inputs\")\n",
    "graph = graph_builder.compile()\n",
    "\n",
    "graph.invoke({})"
   ]
  },
  {
   "cell_type": "code",
   "execution_count": 8,
   "id": "73fbccb2",
   "metadata": {
    "execution": {
     "iopub.execute_input": "2025-07-31T17:35:21.733080Z",
     "iopub.status.busy": "2025-07-31T17:35:21.732612Z",
     "iopub.status.idle": "2025-07-31T17:35:22.101502Z",
     "shell.execute_reply": "2025-07-31T17:35:22.100519Z"
    },
    "papermill": {
     "duration": 0.376947,
     "end_time": "2025-07-31T17:35:22.103163",
     "exception": false,
     "start_time": "2025-07-31T17:35:21.726216",
     "status": "completed"
    },
    "tags": []
   },
   "outputs": [
    {
     "data": {
      "image/png": "[encoded data removed]",
      "text/plain": [
       "<IPython.core.display.Image object>"
      ]
     },
     "metadata": {},
     "output_type": "display_data"
    }
   ],
   "source": [
    "from IPython.display import display,Image\n",
    "display(Image(graph.get_graph().draw_mermaid_png()))"
   ]
  },
  {
   "cell_type": "markdown",
   "id": "86821b19",
   "metadata": {
    "papermill": {
     "duration": 0.006783,
     "end_time": "2025-07-31T17:35:22.116641",
     "exception": false,
     "start_time": "2025-07-31T17:35:22.109858",
     "status": "completed"
    },
    "tags": []
   },
   "source": [
    "### Question 3:\n",
    "\n",
    "You're building a LangGraph workflow that uses LangChain tools.\n",
    "\n",
    "You want to:\n",
    "\n",
    "* Accept a user's question (e.g., \"Show me all employees in the Sales department\"),\n",
    "\n",
    "* Generate a SQL query from it using an LLM,\n",
    "\n",
    "* Execute the SQL query using a tool (QuerySQLDatabaseTool), and\n",
    "\n",
    "* Return the final result."
   ]
  },
  {
   "cell_type": "code",
   "execution_count": 9,
   "id": "6f65e372",
   "metadata": {
    "execution": {
     "iopub.execute_input": "2025-07-31T17:35:22.131313Z",
     "iopub.status.busy": "2025-07-31T17:35:22.130867Z",
     "iopub.status.idle": "2025-07-31T17:35:23.477055Z",
     "shell.execute_reply": "2025-07-31T17:35:23.475309Z"
    },
    "papermill": {
     "duration": 1.356229,
     "end_time": "2025-07-31T17:35:23.478803",
     "exception": false,
     "start_time": "2025-07-31T17:35:22.122574",
     "status": "completed"
    },
    "tags": []
   },
   "outputs": [
    {
     "name": "stdout",
     "output_type": "stream",
     "text": [
      "sqlite\n",
      "['Album', 'Artist', 'Customer', 'Employee', 'Genre', 'Invoice', 'InvoiceLine', 'MediaType', 'Playlist', 'PlaylistTrack', 'Track']\n"
     ]
    }
   ],
   "source": [
    "from langchain_community.utilities import SQLDatabase\n",
    "db=SQLDatabase.from_uri(\"sqlite:////kaggle/input/chinook/Chinook_Sqlite.sqlite\")\n",
    "print(db.dialect)\n",
    "print(db.get_usable_table_names())\n"
   ]
  },
  {
   "cell_type": "code",
   "execution_count": null,
   "id": "434746c9",
   "metadata": {
    "papermill": {
     "duration": 0.005423,
     "end_time": "2025-07-31T17:35:23.490100",
     "exception": false,
     "start_time": "2025-07-31T17:35:23.484677",
     "status": "completed"
    },
    "tags": []
   },
   "outputs": [],
   "source": []
  },
  {
   "cell_type": "code",
   "execution_count": null,
   "id": "1561b44d",
   "metadata": {
    "papermill": {
     "duration": 0.00533,
     "end_time": "2025-07-31T17:35:23.501250",
     "exception": false,
     "start_time": "2025-07-31T17:35:23.495920",
     "status": "completed"
    },
    "tags": []
   },
   "outputs": [],
   "source": []
  },
  {
   "cell_type": "code",
   "execution_count": null,
   "id": "e7c7ce03",
   "metadata": {
    "papermill": {
     "duration": 0.005428,
     "end_time": "2025-07-31T17:35:23.512367",
     "exception": false,
     "start_time": "2025-07-31T17:35:23.506939",
     "status": "completed"
    },
    "tags": []
   },
   "outputs": [],
   "source": []
  }
 ],
 "metadata": {
  "kaggle": {
   "accelerator": "none",
   "dataSources": [
    {
     "datasetId": 3970738,
     "sourceId": 6914376,
     "sourceType": "datasetVersion"
    }
   ],
   "dockerImageVersionId": 31089,
   "isGpuEnabled": false,
   "isInternetEnabled": true,
   "language": "python",
   "sourceType": "notebook"
  },
  "kernelspec": {
   "display_name": "Python 3",
   "language": "python",
   "name": "python3"
  },
  "language_info": {
   "codemirror_mode": {
    "name": "ipython",
    "version": 3
   },
   "file_extension": ".py",
   "mimetype": "text/x-python",
   "name": "python",
   "nbconvert_exporter": "python",
   "pygments_lexer": "ipython3",
   "version": "3.11.13"
  },
  "papermill": {
   "default_parameters": {},
   "duration": 27.410806,
   "end_time": "2025-07-31T17:35:24.347369",
   "environment_variables": {},
   "exception": null,
   "input_path": "__notebook__.ipynb",
   "output_path": "__notebook__.ipynb",
   "parameters": {},
   "start_time": "2025-07-31T17:34:56.936563",
   "version": "2.6.0"
  }
 },
 "nbformat": 4,
 "nbformat_minor": 5
}
